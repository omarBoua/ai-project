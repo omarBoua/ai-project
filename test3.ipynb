{
 "cells": [
  {
   "cell_type": "markdown",
   "id": "50a01d21df22249b",
   "metadata": {},
   "source": [
    "# First approach, simple neural networks"
   ]
  },
  {
   "cell_type": "code",
   "id": "d3ae4211c5e2026d",
   "metadata": {
    "ExecuteTime": {
     "end_time": "2025-01-24T23:16:15.030563Z",
     "start_time": "2025-01-24T23:16:12.983071Z"
    }
   },
   "source": [
    "import pickle\n",
    "import warnings\n",
    "\n",
    "import torch\n",
    "import torch.nn as nn\n",
    "import torch.optim as optim\n",
    "from sklearn.model_selection import train_test_split\n",
    "from torch.utils.data import Dataset, DataLoader\n",
    "from tqdm import tqdm\n",
    "from dataset import LinkPredictionDataset\n",
    "from evaluation import load_model, evaluate_all_metrics\n",
    "from graph import *\n",
    "from models import MyPredictionModel, EdgePredictionModel, GraphPredictionModel\n",
    "from node import *\n",
    "\n",
    "warnings.simplefilter(\"ignore\", category=FutureWarning)\n"
   ],
   "outputs": [],
   "execution_count": 1
  },
  {
   "cell_type": "code",
   "id": "76fa4b29a7114e84",
   "metadata": {
    "ExecuteTime": {
     "end_time": "2025-01-24T23:16:15.776760Z",
     "start_time": "2025-01-24T23:16:15.036584Z"
    }
   },
   "source": [
    "with open('./data/graphs.dat', 'rb') as file:\n",
    "    train_graphs_list: List[Graph] = pickle.load(file)\n",
    "    train_graphs_list, test_graphs = train_test_split(train_graphs_list, test_size=0.2, random_state=42)\n",
    "all_part_ids = []\n",
    "all_family_ids = []\n",
    "for graph in train_graphs_list:\n",
    "    for n in graph.get_nodes():\n",
    "        all_part_ids.append(int(n.get_part().get_part_id()))\n",
    "        all_family_ids.append(int(n.get_part().get_family_id()))\n",
    "\n",
    "part_vocab_size = max(all_part_ids) + 1\n",
    "family_vocab_size = max(all_family_ids) + 1\n",
    "print(f\"Part Vocab Size: {part_vocab_size}\")\n",
    "print(f\"Family Vocab Size: {family_vocab_size}\")"
   ],
   "outputs": [
    {
     "name": "stdout",
     "output_type": "stream",
     "text": [
      "Part Vocab Size: 2271\n",
      "Family Vocab Size: 96\n"
     ]
    }
   ],
   "execution_count": 2
  },
  {
   "cell_type": "code",
   "id": "initial_id",
   "metadata": {
    "ExecuteTime": {
     "end_time": "2025-01-24T22:42:56.758208Z",
     "start_time": "2025-01-24T22:42:56.755229Z"
    }
   },
   "source": [
    "def train_edge_predictor(model, optimizer, criterion, epochs=100):\n",
    "    model.train()\n",
    "    for epoch in range(epochs):\n",
    "        total_loss = 0.0\n",
    "        for batch in dataloader:\n",
    "            part_i, fam_i, part_j, fam_j, label = batch\n",
    "            # Convert to Long / Float for embeddings + BCE\n",
    "            part_i = part_i.long()\n",
    "            fam_i = fam_i.long()\n",
    "            part_j = part_j.long()\n",
    "            fam_j = fam_j.long()\n",
    "            label = label.float()\n",
    "\n",
    "            optimizer.zero_grad()\n",
    "            logits = model(part_i, fam_i, part_j, fam_j)\n",
    "            loss = criterion(logits, label)\n",
    "            loss.backward()\n",
    "            optimizer.step()\n",
    "\n",
    "            total_loss += loss.item()\n",
    "\n",
    "        avg_loss = total_loss / len(dataloader)\n",
    "        print(f\"Epoch {epoch + 1}/{epochs} - Loss: {avg_loss:.4f}\")"
   ],
   "outputs": [],
   "execution_count": 3
  },
  {
   "cell_type": "markdown",
   "id": "587251c30941e698",
   "metadata": {},
   "source": [
    "### Now train it and write it to disk"
   ]
  },
  {
   "cell_type": "code",
   "id": "d567de3ed514dde1",
   "metadata": {
    "ExecuteTime": {
     "end_time": "2025-01-24T22:32:34.070573Z",
     "start_time": "2025-01-24T22:32:19.296910Z"
    }
   },
   "source": [
    "# Create the dataset and dataloader\n",
    "dataset = LinkPredictionDataset(train_graphs_list)\n",
    "dataloader = DataLoader(dataset, batch_size=64, shuffle=True)\n",
    "\n",
    "# Create the model, criterion, and optimizer\n",
    "model_EdgePredictor = EdgePredictionModel(part_vocab_size, family_vocab_size, embed_dim=16, hidden_dim=32)\n",
    "criterion = nn.BCEWithLogitsLoss()\n",
    "optimizer = optim.Adam(model_EdgePredictor.parameters(), lr=0.001)\n",
    "\n",
    "# train the model\n",
    "train_edge_predictor(model_EdgePredictor, optimizer, criterion, epochs=50)\n",
    "torch.save(model_EdgePredictor.state_dict(), \"edge_predictor_model.pth\")\n"
   ],
   "outputs": [
    {
     "name": "stderr",
     "output_type": "stream",
     "text": [
      "/home/dhia/PycharmProjects/portfolio-assistant/.venv/lib/python3.12/site-packages/torch/autograd/graph.py:825: UserWarning: CUDA initialization: CUDA unknown error - this may be due to an incorrectly set up environment, e.g. changing env variable CUDA_VISIBLE_DEVICES after program start. Setting the available devices to be zero. (Triggered internally at ../c10/cuda/CUDAFunctions.cpp:108.)\n",
      "  return Variable._execution_engine.run_backward(  # Calls into the C++ engine to run the backward pass\n"
     ]
    },
    {
     "name": "stdout",
     "output_type": "stream",
     "text": [
      "Epoch 1/50 - Loss: 0.1548\n"
     ]
    },
    {
     "ename": "KeyboardInterrupt",
     "evalue": "",
     "output_type": "error",
     "traceback": [
      "\u001B[0;31m---------------------------------------------------------------------------\u001B[0m",
      "\u001B[0;31mKeyboardInterrupt\u001B[0m                         Traceback (most recent call last)",
      "Cell \u001B[0;32mIn[4], line 11\u001B[0m\n\u001B[1;32m      8\u001B[0m optimizer \u001B[38;5;241m=\u001B[39m optim\u001B[38;5;241m.\u001B[39mAdam(model_EdgePredictor\u001B[38;5;241m.\u001B[39mparameters(), lr\u001B[38;5;241m=\u001B[39m\u001B[38;5;241m0.001\u001B[39m)\n\u001B[1;32m     10\u001B[0m \u001B[38;5;66;03m# train the model\u001B[39;00m\n\u001B[0;32m---> 11\u001B[0m \u001B[43mtrain_edge_predictor\u001B[49m\u001B[43m(\u001B[49m\u001B[43mmodel_EdgePredictor\u001B[49m\u001B[43m,\u001B[49m\u001B[43m \u001B[49m\u001B[43moptimizer\u001B[49m\u001B[43m,\u001B[49m\u001B[43m \u001B[49m\u001B[43mcriterion\u001B[49m\u001B[43m,\u001B[49m\u001B[43m \u001B[49m\u001B[43mepochs\u001B[49m\u001B[38;5;241;43m=\u001B[39;49m\u001B[38;5;241;43m50\u001B[39;49m\u001B[43m)\u001B[49m\n\u001B[1;32m     12\u001B[0m torch\u001B[38;5;241m.\u001B[39msave(model_EdgePredictor\u001B[38;5;241m.\u001B[39mstate_dict(), \u001B[38;5;124m\"\u001B[39m\u001B[38;5;124mmodel_EdgePredictor.pth\u001B[39m\u001B[38;5;124m\"\u001B[39m)\n",
      "Cell \u001B[0;32mIn[3], line 17\u001B[0m, in \u001B[0;36mtrain_edge_predictor\u001B[0;34m(model, optimizer, criterion, epochs)\u001B[0m\n\u001B[1;32m     15\u001B[0m logits \u001B[38;5;241m=\u001B[39m model(part_i, fam_i, part_j, fam_j)\n\u001B[1;32m     16\u001B[0m loss \u001B[38;5;241m=\u001B[39m criterion(logits, label)\n\u001B[0;32m---> 17\u001B[0m \u001B[43mloss\u001B[49m\u001B[38;5;241;43m.\u001B[39;49m\u001B[43mbackward\u001B[49m\u001B[43m(\u001B[49m\u001B[43m)\u001B[49m\n\u001B[1;32m     18\u001B[0m optimizer\u001B[38;5;241m.\u001B[39mstep()\n\u001B[1;32m     20\u001B[0m total_loss \u001B[38;5;241m+\u001B[39m\u001B[38;5;241m=\u001B[39m loss\u001B[38;5;241m.\u001B[39mitem()\n",
      "File \u001B[0;32m~/PycharmProjects/portfolio-assistant/.venv/lib/python3.12/site-packages/torch/_tensor.py:581\u001B[0m, in \u001B[0;36mTensor.backward\u001B[0;34m(self, gradient, retain_graph, create_graph, inputs)\u001B[0m\n\u001B[1;32m    571\u001B[0m \u001B[38;5;28;01mif\u001B[39;00m has_torch_function_unary(\u001B[38;5;28mself\u001B[39m):\n\u001B[1;32m    572\u001B[0m     \u001B[38;5;28;01mreturn\u001B[39;00m handle_torch_function(\n\u001B[1;32m    573\u001B[0m         Tensor\u001B[38;5;241m.\u001B[39mbackward,\n\u001B[1;32m    574\u001B[0m         (\u001B[38;5;28mself\u001B[39m,),\n\u001B[0;32m   (...)\u001B[0m\n\u001B[1;32m    579\u001B[0m         inputs\u001B[38;5;241m=\u001B[39minputs,\n\u001B[1;32m    580\u001B[0m     )\n\u001B[0;32m--> 581\u001B[0m \u001B[43mtorch\u001B[49m\u001B[38;5;241;43m.\u001B[39;49m\u001B[43mautograd\u001B[49m\u001B[38;5;241;43m.\u001B[39;49m\u001B[43mbackward\u001B[49m\u001B[43m(\u001B[49m\n\u001B[1;32m    582\u001B[0m \u001B[43m    \u001B[49m\u001B[38;5;28;43mself\u001B[39;49m\u001B[43m,\u001B[49m\u001B[43m \u001B[49m\u001B[43mgradient\u001B[49m\u001B[43m,\u001B[49m\u001B[43m \u001B[49m\u001B[43mretain_graph\u001B[49m\u001B[43m,\u001B[49m\u001B[43m \u001B[49m\u001B[43mcreate_graph\u001B[49m\u001B[43m,\u001B[49m\u001B[43m \u001B[49m\u001B[43minputs\u001B[49m\u001B[38;5;241;43m=\u001B[39;49m\u001B[43minputs\u001B[49m\n\u001B[1;32m    583\u001B[0m \u001B[43m\u001B[49m\u001B[43m)\u001B[49m\n",
      "File \u001B[0;32m~/PycharmProjects/portfolio-assistant/.venv/lib/python3.12/site-packages/torch/autograd/__init__.py:347\u001B[0m, in \u001B[0;36mbackward\u001B[0;34m(tensors, grad_tensors, retain_graph, create_graph, grad_variables, inputs)\u001B[0m\n\u001B[1;32m    342\u001B[0m     retain_graph \u001B[38;5;241m=\u001B[39m create_graph\n\u001B[1;32m    344\u001B[0m \u001B[38;5;66;03m# The reason we repeat the same comment below is that\u001B[39;00m\n\u001B[1;32m    345\u001B[0m \u001B[38;5;66;03m# some Python versions print out the first line of a multi-line function\u001B[39;00m\n\u001B[1;32m    346\u001B[0m \u001B[38;5;66;03m# calls in the traceback and some print out the last line\u001B[39;00m\n\u001B[0;32m--> 347\u001B[0m \u001B[43m_engine_run_backward\u001B[49m\u001B[43m(\u001B[49m\n\u001B[1;32m    348\u001B[0m \u001B[43m    \u001B[49m\u001B[43mtensors\u001B[49m\u001B[43m,\u001B[49m\n\u001B[1;32m    349\u001B[0m \u001B[43m    \u001B[49m\u001B[43mgrad_tensors_\u001B[49m\u001B[43m,\u001B[49m\n\u001B[1;32m    350\u001B[0m \u001B[43m    \u001B[49m\u001B[43mretain_graph\u001B[49m\u001B[43m,\u001B[49m\n\u001B[1;32m    351\u001B[0m \u001B[43m    \u001B[49m\u001B[43mcreate_graph\u001B[49m\u001B[43m,\u001B[49m\n\u001B[1;32m    352\u001B[0m \u001B[43m    \u001B[49m\u001B[43minputs\u001B[49m\u001B[43m,\u001B[49m\n\u001B[1;32m    353\u001B[0m \u001B[43m    \u001B[49m\u001B[43mallow_unreachable\u001B[49m\u001B[38;5;241;43m=\u001B[39;49m\u001B[38;5;28;43;01mTrue\u001B[39;49;00m\u001B[43m,\u001B[49m\n\u001B[1;32m    354\u001B[0m \u001B[43m    \u001B[49m\u001B[43maccumulate_grad\u001B[49m\u001B[38;5;241;43m=\u001B[39;49m\u001B[38;5;28;43;01mTrue\u001B[39;49;00m\u001B[43m,\u001B[49m\n\u001B[1;32m    355\u001B[0m \u001B[43m\u001B[49m\u001B[43m)\u001B[49m\n",
      "File \u001B[0;32m~/PycharmProjects/portfolio-assistant/.venv/lib/python3.12/site-packages/torch/autograd/graph.py:825\u001B[0m, in \u001B[0;36m_engine_run_backward\u001B[0;34m(t_outputs, *args, **kwargs)\u001B[0m\n\u001B[1;32m    823\u001B[0m     unregister_hooks \u001B[38;5;241m=\u001B[39m _register_logging_hooks_on_whole_graph(t_outputs)\n\u001B[1;32m    824\u001B[0m \u001B[38;5;28;01mtry\u001B[39;00m:\n\u001B[0;32m--> 825\u001B[0m     \u001B[38;5;28;01mreturn\u001B[39;00m \u001B[43mVariable\u001B[49m\u001B[38;5;241;43m.\u001B[39;49m\u001B[43m_execution_engine\u001B[49m\u001B[38;5;241;43m.\u001B[39;49m\u001B[43mrun_backward\u001B[49m\u001B[43m(\u001B[49m\u001B[43m  \u001B[49m\u001B[38;5;66;43;03m# Calls into the C++ engine to run the backward pass\u001B[39;49;00m\n\u001B[1;32m    826\u001B[0m \u001B[43m        \u001B[49m\u001B[43mt_outputs\u001B[49m\u001B[43m,\u001B[49m\u001B[43m \u001B[49m\u001B[38;5;241;43m*\u001B[39;49m\u001B[43margs\u001B[49m\u001B[43m,\u001B[49m\u001B[43m \u001B[49m\u001B[38;5;241;43m*\u001B[39;49m\u001B[38;5;241;43m*\u001B[39;49m\u001B[43mkwargs\u001B[49m\n\u001B[1;32m    827\u001B[0m \u001B[43m    \u001B[49m\u001B[43m)\u001B[49m  \u001B[38;5;66;03m# Calls into the C++ engine to run the backward pass\u001B[39;00m\n\u001B[1;32m    828\u001B[0m \u001B[38;5;28;01mfinally\u001B[39;00m:\n\u001B[1;32m    829\u001B[0m     \u001B[38;5;28;01mif\u001B[39;00m attach_logging_hooks:\n",
      "\u001B[0;31mKeyboardInterrupt\u001B[0m: "
     ]
    }
   ],
   "execution_count": 4
  },
  {
   "cell_type": "markdown",
   "id": "ec022aa81ee58718",
   "metadata": {},
   "source": [
    "Now evaluate it\n",
    "We developed our own metrics:\n",
    "\n",
    "Evaluation Metrics:\n",
    "\n",
    "1. Precision, Recall, F1-score:\n",
    "   - Precision: Measures the proportion of correctly predicted edges out of all predicted edges.\n",
    "   - Recall: Measures the proportion of correctly predicted edges out of all actual edges.\n",
    "   - F1-score: Harmonic mean of precision and recall, balancing both metrics.\n",
    "\n",
    "2. Hamming Distance:\n",
    "   - Counts the number of differing edges between the predicted and target adjacency matrices.\n",
    "\n",
    "3. Jaccard Similarity:\n",
    "   - Measures the overlap between predicted and actual edge sets, calculated as the intersection over the union.\n",
    "\n",
    "4. Graph Edit Distance:\n",
    "   - Computes the minimum number of edge insertions, deletions, or substitutions to transform the predicted graph into the target graph.\n",
    "\n",
    "\n",
    "\n",
    "We took the mean over all test samples.\n",
    "\n"
   ]
  },
  {
   "metadata": {
    "ExecuteTime": {
     "end_time": "2025-01-24T23:12:22.326890Z",
     "start_time": "2025-01-24T23:12:22.321612Z"
    }
   },
   "cell_type": "code",
   "source": [
    "model_file_path = 'edge_predictor_model.pth'\n",
    "prediction_model: MyPredictionModel = load_model(model_file_path)"
   ],
   "id": "856e283d27a49357",
   "outputs": [],
   "execution_count": 3
  },
  {
   "cell_type": "code",
   "id": "ddf78015f64ebea5",
   "metadata": {
    "ExecuteTime": {
     "end_time": "2025-01-24T23:14:48.580121Z",
     "start_time": "2025-01-24T23:12:23.186807Z"
    }
   },
   "source": [
    "instances = [(graph.get_parts(), graph) for graph in test_graphs[:500]]\n",
    "evaluate_all_metrics(prediction_model, instances)"
   ],
   "outputs": [
    {
     "name": "stderr",
     "output_type": "stream",
     "text": [
      "Processing graphs: 100%|██████████| 500/500 [02:25<00:00,  3.44graph/s, failed=0, P=0.8797, R=1.0000, F1=0.9299, Hamming=1.4160, Jaccard=0.8797, Edit Dist=1.4160, Acc=96.44%]"
     ]
    },
    {
     "name": "stdout",
     "output_type": "stream",
     "text": [
      "\n",
      "Evaluation Results:\n",
      "  Number of invalid graphs due to mismatch in number of nodes: 0\n",
      "  Precision: 0.8797\n",
      "  Recall: 1.0000\n",
      "  F1-score: 0.9299\n",
      "  Hamming Distance: 1.4160\n",
      "  Jaccard Similarity: 0.8797\n",
      "  Graph Edit Distance: 1.4160\n",
      "  Edge Accuracy: 96.4443%\n"
     ]
    },
    {
     "name": "stderr",
     "output_type": "stream",
     "text": [
      "\n"
     ]
    }
   ],
   "execution_count": 4
  },
  {
   "cell_type": "markdown",
   "id": "44575e301020d10a",
   "metadata": {},
   "source": [
    "# Second Method: GNN"
   ]
  },
  {
   "cell_type": "code",
   "id": "13399306b525fc3e",
   "metadata": {
    "ExecuteTime": {
     "end_time": "2025-01-24T22:24:49.416670Z",
     "start_time": "2025-01-24T22:24:49.412482Z"
    }
   },
   "source": [
    "def train_graph_predictor(model, train_graphs_list, optimizer, criterion, epochs=100):\n",
    "    model.train()\n",
    "    for epoch in tqdm(range(epochs), desc=\"Training\", unit=\"epoch\", total=epochs):\n",
    "        total_loss = 0.0\n",
    "\n",
    "        # Wrap train_graphs_list with tqdm for progress tracking\n",
    "        for graph in train_graphs_list:\n",
    "            optimizer.zero_grad()\n",
    "\n",
    "            # Sort nodes\n",
    "            nodes = sorted(\n",
    "                graph.get_nodes(),\n",
    "                key=lambda node: (node.get_part().get_part_id(), node.get_part().get_family_id())\n",
    "            )\n",
    "\n",
    "            # Prepare part/family IDs\n",
    "            part_ids = torch.tensor(\n",
    "                [int(node.get_part().get_part_id()) for node in nodes],\n",
    "                dtype=torch.long\n",
    "            )\n",
    "            family_ids = torch.tensor(\n",
    "                [int(node.get_part().get_family_id()) for node in nodes],\n",
    "                dtype=torch.long\n",
    "            )\n",
    "\n",
    "            # Build adjacency on the same device\n",
    "            part_order = tuple(node.get_part() for node in nodes)\n",
    "            adjacency_matrix = torch.tensor(\n",
    "                graph.get_adjacency_matrix(part_order),\n",
    "                dtype=torch.float32\n",
    "            )\n",
    "\n",
    "            # Forward pass\n",
    "            logits = model(part_ids, family_ids)\n",
    "\n",
    "            # Flatten for loss\n",
    "            target = adjacency_matrix.flatten()\n",
    "            loss = criterion(logits.flatten(), target)\n",
    "\n",
    "            loss.backward()\n",
    "            optimizer.step()\n",
    "            total_loss += loss.item()\n",
    "\n",
    "        avg_loss = total_loss / len(train_graphs_list)\n",
    "        print(f\"Epoch {epoch + 1}/{epochs} - Loss: {avg_loss:.4f}\")\n"
   ],
   "outputs": [],
   "execution_count": 28
  },
  {
   "cell_type": "markdown",
   "id": "1093450867ae599d",
   "metadata": {},
   "source": [
    "### Now train it and write it to disk"
   ]
  },
  {
   "cell_type": "code",
   "id": "b86d6aa5ead67d3c",
   "metadata": {
    "ExecuteTime": {
     "end_time": "2025-01-24T23:16:27.199390Z",
     "start_time": "2025-01-24T23:16:26.483655Z"
    }
   },
   "source": [
    "model = GraphPredictionModel(part_vocab_size, family_vocab_size, embed_dim=1, gnn_hidden_dim=32)\n",
    "optimizer = optim.Adam(model.parameters(), lr=0.001)\n",
    "criterion = nn.BCEWithLogitsLoss()\n",
    "\n",
    "train_graph_predictor(model, train_graphs_list, optimizer, criterion, epochs=100)\n",
    "torch.save(model.state_dict(), \"graph_predictor_model.pth\")\n",
    "\n"
   ],
   "outputs": [
    {
     "ename": "NameError",
     "evalue": "name 'train_graph_predictor' is not defined",
     "output_type": "error",
     "traceback": [
      "\u001B[0;31m---------------------------------------------------------------------------\u001B[0m",
      "\u001B[0;31mNameError\u001B[0m                                 Traceback (most recent call last)",
      "Cell \u001B[0;32mIn[3], line 5\u001B[0m\n\u001B[1;32m      2\u001B[0m optimizer \u001B[38;5;241m=\u001B[39m optim\u001B[38;5;241m.\u001B[39mAdam(model\u001B[38;5;241m.\u001B[39mparameters(), lr\u001B[38;5;241m=\u001B[39m\u001B[38;5;241m0.001\u001B[39m)\n\u001B[1;32m      3\u001B[0m criterion \u001B[38;5;241m=\u001B[39m nn\u001B[38;5;241m.\u001B[39mBCEWithLogitsLoss()\n\u001B[0;32m----> 5\u001B[0m \u001B[43mtrain_graph_predictor\u001B[49m(model, train_graphs_list, optimizer, criterion, epochs\u001B[38;5;241m=\u001B[39m\u001B[38;5;241m100\u001B[39m)\n\u001B[1;32m      6\u001B[0m torch\u001B[38;5;241m.\u001B[39msave(model\u001B[38;5;241m.\u001B[39mstate_dict(), \u001B[38;5;124m\"\u001B[39m\u001B[38;5;124mgraph_predictor_model.pth\u001B[39m\u001B[38;5;124m\"\u001B[39m)\n",
      "\u001B[0;31mNameError\u001B[0m: name 'train_graph_predictor' is not defined"
     ]
    }
   ],
   "execution_count": 3
  },
  {
   "cell_type": "markdown",
   "id": "102e1c6ac121dd4d",
   "metadata": {},
   "source": [
    "### Now evaluate it"
   ]
  },
  {
   "cell_type": "code",
   "id": "99333a55d05cfd4b",
   "metadata": {
    "ExecuteTime": {
     "end_time": "2025-01-24T23:16:32.930344Z",
     "start_time": "2025-01-24T23:16:32.926261Z"
    }
   },
   "source": [
    "model_file_path = 'graph_predictor_model.pth'\n",
    "prediction_model: MyPredictionModel = load_model(model_file_path)"
   ],
   "outputs": [],
   "execution_count": 4
  },
  {
   "cell_type": "markdown",
   "source": [
    "Again we evaluate on our metrics"
   ],
   "metadata": {
    "collapsed": false
   },
   "id": "ad7de0b6b0fc763"
  },
  {
   "cell_type": "code",
   "source": [
    "instances = [(graph.get_parts(), graph) for graph in test_graphs[:500]]\n",
    "evaluate_all_metrics(prediction_model, instances)"
   ],
   "metadata": {
    "collapsed": false,
    "jupyter": {
     "is_executing": true
    },
    "ExecuteTime": {
     "start_time": "2025-01-24T23:16:34.997306Z"
    }
   },
   "id": "5f529b03317fdc01",
   "outputs": [
    {
     "name": "stderr",
     "output_type": "stream",
     "text": [
      "Processing graphs:  87%|████████▋ | 433/500 [08:18<27:49, 24.92s/graph, failed=0, P=0.8622, R=0.9993, F1=0.9185, Hamming=1.6391, Jaccard=0.8618, Edit Dist=1.6299, Acc=95.72%]"
     ]
    }
   ],
   "execution_count": null
  },
  {
   "metadata": {},
   "cell_type": "code",
   "outputs": [],
   "execution_count": null,
   "source": "",
   "id": "75cb4309e7802b57"
  }
 ],
 "metadata": {
  "kernelspec": {
   "display_name": "Python 3 (ipykernel)",
   "language": "python",
   "name": "python3"
  },
  "language_info": {
   "codemirror_mode": {
    "name": "ipython",
    "version": 3
   },
   "file_extension": ".py",
   "mimetype": "text/x-python",
   "name": "python",
   "nbconvert_exporter": "python",
   "pygments_lexer": "ipython3",
   "version": "3.12.3"
  }
 },
 "nbformat": 4,
 "nbformat_minor": 5
}
