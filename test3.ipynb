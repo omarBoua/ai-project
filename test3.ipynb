{
 "cells": [
  {
   "cell_type": "markdown",
   "id": "50a01d21df22249b",
   "metadata": {},
   "source": [
    "# First approach, simple neural networks"
   ]
  },
  {
   "cell_type": "code",
   "id": "d3ae4211c5e2026d",
   "metadata": {
    "ExecuteTime": {
     "end_time": "2025-01-25T15:45:58.775959Z",
     "start_time": "2025-01-25T15:45:58.757886Z"
    }
   },
   "source": [
    "import pickle\n",
    "import warnings\n",
    "\n",
    "import torch\n",
    "import torch.nn as nn\n",
    "import torch.optim as optim\n",
    "from sklearn.model_selection import train_test_split\n",
    "from torch.utils.data import Dataset, DataLoader\n",
    "from tqdm import tqdm\n",
    "from dataset import LinkPredictionDataset\n",
    "from evaluation import load_model, evaluate_all_metrics\n",
    "from graph import *\n",
    "from models import MyPredictionModel, EdgePredictionModel, GraphPredictionModel\n",
    "from node import *\n",
    "\n",
    "warnings.simplefilter(\"ignore\", category=FutureWarning)\n"
   ],
   "outputs": [],
   "execution_count": 14
  },
  {
   "cell_type": "code",
   "id": "76fa4b29a7114e84",
   "metadata": {
    "ExecuteTime": {
     "end_time": "2025-01-25T15:57:48.665634Z",
     "start_time": "2025-01-25T15:57:46.833360Z"
    }
   },
   "source": [
    "with open('./data/graphs.dat', 'rb') as file:\n",
    "    graphs_list: List[Graph] = pickle.load(file)\n",
    "    train_graphs_list, temp_graphs = train_test_split(graphs_list, test_size=0.2, random_state=42)\n",
    "    val_graphs, test_graphs = train_test_split(temp_graphs, test_size=0.5, random_state=42)\n",
    "   \n",
    "print(f\"Dataset size: {len(graphs_list)}\")    \n",
    "print(f\"Train set size: {len(train_graphs_list)}\")\n",
    "print(f\"Validation set size: {len(val_graphs)}\")\n",
    "print(f\"Test set size: {len(test_graphs)}\")\n",
    "\n",
    "all_part_ids = []\n",
    "all_family_ids = []\n",
    "for graph in train_graphs_list:\n",
    "    for n in graph.get_nodes():\n",
    "        all_part_ids.append(int(n.get_part().get_part_id()))\n",
    "        all_family_ids.append(int(n.get_part().get_family_id()))\n",
    "\n",
    "part_vocab_size = max(all_part_ids) + 1\n",
    "family_vocab_size = max(all_family_ids) + 1\n",
    "print(f\"Part Vocab Size: {part_vocab_size}\")\n",
    "print(f\"Family Vocab Size: {family_vocab_size}\")"
   ],
   "outputs": [
    {
     "name": "stdout",
     "output_type": "stream",
     "text": [
      "Dataset size: 11159\n",
      "Train set size: 8927\n",
      "Validation set size: 1116\n",
      "Test set size: 1116\n",
      "Part Vocab Size: 2271\n",
      "Family Vocab Size: 96\n"
     ]
    }
   ],
   "execution_count": 25
  },
  {
   "cell_type": "code",
   "id": "initial_id",
   "metadata": {
    "ExecuteTime": {
     "end_time": "2025-01-25T15:46:01.553095Z",
     "start_time": "2025-01-25T15:46:01.527927Z"
    }
   },
   "source": [
    "def train_edge_predictor(model, train_dataloader, val_dataloader, optimizer, criterion, epochs=100):\n",
    "    train_losses = []\n",
    "    val_losses = []\n",
    "\n",
    "    for epoch in tqdm(range(epochs), desc=\"Training\", unit=\"epoch\"):\n",
    "        # Training phase\n",
    "        model.train()\n",
    "        total_train_loss = 0.0\n",
    "\n",
    "        for batch in train_dataloader:\n",
    "            part_i, fam_i, part_j, fam_j, label = batch\n",
    "\n",
    "            # Convert data to correct types\n",
    "            part_i = part_i.long()\n",
    "            fam_i = fam_i.long()\n",
    "            part_j = part_j.long()\n",
    "            fam_j = fam_j.long()\n",
    "            label = label.float()\n",
    "\n",
    "            optimizer.zero_grad()\n",
    "            logits = model(part_i, fam_i, part_j, fam_j)\n",
    "            loss = criterion(logits, label)\n",
    "            loss.backward()\n",
    "            optimizer.step()\n",
    "\n",
    "            total_train_loss += loss.item()\n",
    "\n",
    "        avg_train_loss = total_train_loss / len(train_dataloader)\n",
    "        train_losses.append(avg_train_loss)\n",
    "\n",
    "        # Validation phase\n",
    "        model.eval()\n",
    "        total_val_loss = 0.0\n",
    "        with torch.no_grad():\n",
    "            for batch in val_dataloader:\n",
    "                part_i, fam_i, part_j, fam_j, label = batch\n",
    "\n",
    "                part_i = part_i.long()\n",
    "                fam_i = fam_i.long()\n",
    "                part_j = part_j.long()\n",
    "                fam_j = fam_j.long()\n",
    "                label = label.float()\n",
    "\n",
    "                logits = model(part_i, fam_i, part_j, fam_j)\n",
    "                val_loss = criterion(logits, label)\n",
    "                total_val_loss += val_loss.item()\n",
    "\n",
    "        avg_val_loss = total_val_loss / len(val_dataloader)\n",
    "        val_losses.append(avg_val_loss)\n",
    "\n",
    "        print(f\"Epoch {epoch + 1}/{epochs} - Train Loss: {avg_train_loss:.4f}, Val Loss: {avg_val_loss:.4f}\")\n",
    "\n",
    "    return train_losses, val_losses\n"
   ],
   "outputs": [],
   "execution_count": 16
  },
  {
   "cell_type": "markdown",
   "id": "587251c30941e698",
   "metadata": {},
   "source": [
    "### Now train it and write it to disk"
   ]
  },
  {
   "cell_type": "code",
   "id": "d567de3ed514dde1",
   "metadata": {
    "ExecuteTime": {
     "end_time": "2025-01-25T15:49:54.033730Z",
     "start_time": "2025-01-25T15:46:08.602396Z"
    }
   },
   "source": [
    "# Create datasets for train and validation\n",
    "train_dataset = LinkPredictionDataset(train_graphs_list)\n",
    "val_dataset = LinkPredictionDataset(val_graphs)\n",
    "\n",
    "# Create dataloaders\n",
    "train_dataloader = DataLoader(train_dataset, batch_size=64, shuffle=True)\n",
    "val_dataloader = DataLoader(val_dataset, batch_size=64, shuffle=False)\n",
    "\n",
    "# Define the model, criterion, and optimizer\n",
    "model_EdgePredictor = EdgePredictionModel(part_vocab_size, family_vocab_size, embed_dim=16, hidden_dim=32)\n",
    "criterion = torch.nn.BCEWithLogitsLoss()\n",
    "optimizer = torch.optim.Adam(model_EdgePredictor.parameters(), lr=0.001)\n",
    "\n",
    "# Train the model with training and validation data\n",
    "train_losses, val_losses = train_edge_predictor(\n",
    "    model_EdgePredictor, train_dataloader, val_dataloader, optimizer, criterion, epochs=50\n",
    ")\n",
    "\n",
    "# Save the trained model\n",
    "torch.save(model_EdgePredictor.state_dict(), \"edge_predictor_model.pth\")\n"
   ],
   "outputs": [
    {
     "name": "stderr",
     "output_type": "stream",
     "text": [
      "Training:   2%|▏         | 1/50 [00:05<04:45,  5.82s/epoch]"
     ]
    },
    {
     "name": "stdout",
     "output_type": "stream",
     "text": [
      "Epoch 1/50 - Train Loss: 0.1511, Val Loss: 0.0976\n"
     ]
    },
    {
     "name": "stderr",
     "output_type": "stream",
     "text": [
      "Training:   4%|▍         | 2/50 [00:12<05:05,  6.36s/epoch]"
     ]
    },
    {
     "name": "stdout",
     "output_type": "stream",
     "text": [
      "Epoch 2/50 - Train Loss: 0.0901, Val Loss: 0.0899\n"
     ]
    },
    {
     "name": "stderr",
     "output_type": "stream",
     "text": [
      "Training:   6%|▌         | 3/50 [00:17<04:28,  5.71s/epoch]"
     ]
    },
    {
     "name": "stdout",
     "output_type": "stream",
     "text": [
      "Epoch 3/50 - Train Loss: 0.0847, Val Loss: 0.0851\n"
     ]
    },
    {
     "name": "stderr",
     "output_type": "stream",
     "text": [
      "Training:   8%|▊         | 4/50 [00:22<04:12,  5.49s/epoch]"
     ]
    },
    {
     "name": "stdout",
     "output_type": "stream",
     "text": [
      "Epoch 4/50 - Train Loss: 0.0825, Val Loss: 0.0834\n"
     ]
    },
    {
     "name": "stderr",
     "output_type": "stream",
     "text": [
      "Training:  10%|█         | 5/50 [00:28<04:19,  5.77s/epoch]"
     ]
    },
    {
     "name": "stdout",
     "output_type": "stream",
     "text": [
      "Epoch 5/50 - Train Loss: 0.0810, Val Loss: 0.0838\n"
     ]
    },
    {
     "name": "stderr",
     "output_type": "stream",
     "text": [
      "Training:  12%|█▏        | 6/50 [00:33<03:55,  5.35s/epoch]"
     ]
    },
    {
     "name": "stdout",
     "output_type": "stream",
     "text": [
      "Epoch 6/50 - Train Loss: 0.0800, Val Loss: 0.0826\n"
     ]
    },
    {
     "name": "stderr",
     "output_type": "stream",
     "text": [
      "Training:  14%|█▍        | 7/50 [00:38<03:44,  5.22s/epoch]"
     ]
    },
    {
     "name": "stdout",
     "output_type": "stream",
     "text": [
      "Epoch 7/50 - Train Loss: 0.0794, Val Loss: 0.0832\n"
     ]
    },
    {
     "name": "stderr",
     "output_type": "stream",
     "text": [
      "Training:  16%|█▌        | 8/50 [00:44<03:50,  5.50s/epoch]"
     ]
    },
    {
     "name": "stdout",
     "output_type": "stream",
     "text": [
      "Epoch 8/50 - Train Loss: 0.0788, Val Loss: 0.0809\n"
     ]
    },
    {
     "name": "stderr",
     "output_type": "stream",
     "text": [
      "Training:  18%|█▊        | 9/50 [00:49<03:42,  5.43s/epoch]"
     ]
    },
    {
     "name": "stdout",
     "output_type": "stream",
     "text": [
      "Epoch 9/50 - Train Loss: 0.0783, Val Loss: 0.0809\n"
     ]
    },
    {
     "name": "stderr",
     "output_type": "stream",
     "text": [
      "Training:  20%|██        | 10/50 [00:57<04:06,  6.17s/epoch]"
     ]
    },
    {
     "name": "stdout",
     "output_type": "stream",
     "text": [
      "Epoch 10/50 - Train Loss: 0.0780, Val Loss: 0.0796\n"
     ]
    },
    {
     "name": "stderr",
     "output_type": "stream",
     "text": [
      "Training:  22%|██▏       | 11/50 [01:02<03:51,  5.93s/epoch]"
     ]
    },
    {
     "name": "stdout",
     "output_type": "stream",
     "text": [
      "Epoch 11/50 - Train Loss: 0.0775, Val Loss: 0.0805\n"
     ]
    },
    {
     "name": "stderr",
     "output_type": "stream",
     "text": [
      "Training:  24%|██▍       | 12/50 [01:08<03:35,  5.67s/epoch]"
     ]
    },
    {
     "name": "stdout",
     "output_type": "stream",
     "text": [
      "Epoch 12/50 - Train Loss: 0.0773, Val Loss: 0.0799\n"
     ]
    },
    {
     "name": "stderr",
     "output_type": "stream",
     "text": [
      "Training:  26%|██▌       | 13/50 [01:13<03:31,  5.71s/epoch]"
     ]
    },
    {
     "name": "stdout",
     "output_type": "stream",
     "text": [
      "Epoch 13/50 - Train Loss: 0.0771, Val Loss: 0.0795\n"
     ]
    },
    {
     "name": "stderr",
     "output_type": "stream",
     "text": [
      "Training:  28%|██▊       | 14/50 [01:17<03:07,  5.21s/epoch]"
     ]
    },
    {
     "name": "stdout",
     "output_type": "stream",
     "text": [
      "Epoch 14/50 - Train Loss: 0.0769, Val Loss: 0.0801\n"
     ]
    },
    {
     "name": "stderr",
     "output_type": "stream",
     "text": [
      "Training:  30%|███       | 15/50 [01:21<02:50,  4.86s/epoch]"
     ]
    },
    {
     "name": "stdout",
     "output_type": "stream",
     "text": [
      "Epoch 15/50 - Train Loss: 0.0767, Val Loss: 0.0789\n"
     ]
    },
    {
     "name": "stderr",
     "output_type": "stream",
     "text": [
      "Training:  32%|███▏      | 16/50 [01:26<02:36,  4.62s/epoch]"
     ]
    },
    {
     "name": "stdout",
     "output_type": "stream",
     "text": [
      "Epoch 16/50 - Train Loss: 0.0765, Val Loss: 0.0792\n"
     ]
    },
    {
     "name": "stderr",
     "output_type": "stream",
     "text": [
      "Training:  34%|███▍      | 17/50 [01:30<02:26,  4.44s/epoch]"
     ]
    },
    {
     "name": "stdout",
     "output_type": "stream",
     "text": [
      "Epoch 17/50 - Train Loss: 0.0764, Val Loss: 0.0788\n"
     ]
    },
    {
     "name": "stderr",
     "output_type": "stream",
     "text": [
      "Training:  36%|███▌      | 18/50 [01:34<02:17,  4.30s/epoch]"
     ]
    },
    {
     "name": "stdout",
     "output_type": "stream",
     "text": [
      "Epoch 18/50 - Train Loss: 0.0762, Val Loss: 0.0785\n"
     ]
    },
    {
     "name": "stderr",
     "output_type": "stream",
     "text": [
      "Training:  38%|███▊      | 19/50 [01:38<02:11,  4.24s/epoch]"
     ]
    },
    {
     "name": "stdout",
     "output_type": "stream",
     "text": [
      "Epoch 19/50 - Train Loss: 0.0761, Val Loss: 0.0787\n"
     ]
    },
    {
     "name": "stderr",
     "output_type": "stream",
     "text": [
      "Training:  40%|████      | 20/50 [01:42<02:05,  4.19s/epoch]"
     ]
    },
    {
     "name": "stdout",
     "output_type": "stream",
     "text": [
      "Epoch 20/50 - Train Loss: 0.0760, Val Loss: 0.0780\n"
     ]
    },
    {
     "name": "stderr",
     "output_type": "stream",
     "text": [
      "Training:  42%|████▏     | 21/50 [01:46<02:01,  4.18s/epoch]"
     ]
    },
    {
     "name": "stdout",
     "output_type": "stream",
     "text": [
      "Epoch 21/50 - Train Loss: 0.0759, Val Loss: 0.0793\n"
     ]
    },
    {
     "name": "stderr",
     "output_type": "stream",
     "text": [
      "Training:  44%|████▍     | 22/50 [01:50<01:57,  4.20s/epoch]"
     ]
    },
    {
     "name": "stdout",
     "output_type": "stream",
     "text": [
      "Epoch 22/50 - Train Loss: 0.0758, Val Loss: 0.0779\n"
     ]
    },
    {
     "name": "stderr",
     "output_type": "stream",
     "text": [
      "Training:  46%|████▌     | 23/50 [01:54<01:51,  4.14s/epoch]"
     ]
    },
    {
     "name": "stdout",
     "output_type": "stream",
     "text": [
      "Epoch 23/50 - Train Loss: 0.0757, Val Loss: 0.0788\n"
     ]
    },
    {
     "name": "stderr",
     "output_type": "stream",
     "text": [
      "Training:  48%|████▊     | 24/50 [01:58<01:46,  4.08s/epoch]"
     ]
    },
    {
     "name": "stdout",
     "output_type": "stream",
     "text": [
      "Epoch 24/50 - Train Loss: 0.0755, Val Loss: 0.0784\n"
     ]
    },
    {
     "name": "stderr",
     "output_type": "stream",
     "text": [
      "Training:  50%|█████     | 25/50 [02:02<01:42,  4.09s/epoch]"
     ]
    },
    {
     "name": "stdout",
     "output_type": "stream",
     "text": [
      "Epoch 25/50 - Train Loss: 0.0754, Val Loss: 0.0784\n"
     ]
    },
    {
     "name": "stderr",
     "output_type": "stream",
     "text": [
      "Training:  52%|█████▏    | 26/50 [02:06<01:37,  4.08s/epoch]"
     ]
    },
    {
     "name": "stdout",
     "output_type": "stream",
     "text": [
      "Epoch 26/50 - Train Loss: 0.0754, Val Loss: 0.0784\n"
     ]
    },
    {
     "name": "stderr",
     "output_type": "stream",
     "text": [
      "Training:  54%|█████▍    | 27/50 [02:10<01:33,  4.08s/epoch]"
     ]
    },
    {
     "name": "stdout",
     "output_type": "stream",
     "text": [
      "Epoch 27/50 - Train Loss: 0.0752, Val Loss: 0.0782\n"
     ]
    },
    {
     "name": "stderr",
     "output_type": "stream",
     "text": [
      "Training:  56%|█████▌    | 28/50 [02:14<01:28,  4.03s/epoch]"
     ]
    },
    {
     "name": "stdout",
     "output_type": "stream",
     "text": [
      "Epoch 28/50 - Train Loss: 0.0753, Val Loss: 0.0779\n"
     ]
    },
    {
     "name": "stderr",
     "output_type": "stream",
     "text": [
      "Training:  58%|█████▊    | 29/50 [02:18<01:23,  3.99s/epoch]"
     ]
    },
    {
     "name": "stdout",
     "output_type": "stream",
     "text": [
      "Epoch 29/50 - Train Loss: 0.0751, Val Loss: 0.0778\n"
     ]
    },
    {
     "name": "stderr",
     "output_type": "stream",
     "text": [
      "Training:  60%|██████    | 30/50 [02:22<01:19,  3.97s/epoch]"
     ]
    },
    {
     "name": "stdout",
     "output_type": "stream",
     "text": [
      "Epoch 30/50 - Train Loss: 0.0751, Val Loss: 0.0779\n"
     ]
    },
    {
     "name": "stderr",
     "output_type": "stream",
     "text": [
      "Training:  62%|██████▏   | 31/50 [02:26<01:16,  4.05s/epoch]"
     ]
    },
    {
     "name": "stdout",
     "output_type": "stream",
     "text": [
      "Epoch 31/50 - Train Loss: 0.0750, Val Loss: 0.0781\n"
     ]
    },
    {
     "name": "stderr",
     "output_type": "stream",
     "text": [
      "Training:  64%|██████▍   | 32/50 [02:30<01:12,  4.03s/epoch]"
     ]
    },
    {
     "name": "stdout",
     "output_type": "stream",
     "text": [
      "Epoch 32/50 - Train Loss: 0.0750, Val Loss: 0.0780\n"
     ]
    },
    {
     "name": "stderr",
     "output_type": "stream",
     "text": [
      "Training:  66%|██████▌   | 33/50 [02:34<01:07,  4.00s/epoch]"
     ]
    },
    {
     "name": "stdout",
     "output_type": "stream",
     "text": [
      "Epoch 33/50 - Train Loss: 0.0750, Val Loss: 0.0779\n"
     ]
    },
    {
     "name": "stderr",
     "output_type": "stream",
     "text": [
      "Training:  68%|██████▊   | 34/50 [02:38<01:04,  4.02s/epoch]"
     ]
    },
    {
     "name": "stdout",
     "output_type": "stream",
     "text": [
      "Epoch 34/50 - Train Loss: 0.0748, Val Loss: 0.0781\n"
     ]
    },
    {
     "name": "stderr",
     "output_type": "stream",
     "text": [
      "Training:  70%|███████   | 35/50 [02:42<01:00,  4.03s/epoch]"
     ]
    },
    {
     "name": "stdout",
     "output_type": "stream",
     "text": [
      "Epoch 35/50 - Train Loss: 0.0749, Val Loss: 0.0781\n"
     ]
    },
    {
     "name": "stderr",
     "output_type": "stream",
     "text": [
      "Training:  72%|███████▏  | 36/50 [02:46<00:56,  4.06s/epoch]"
     ]
    },
    {
     "name": "stdout",
     "output_type": "stream",
     "text": [
      "Epoch 36/50 - Train Loss: 0.0747, Val Loss: 0.0785\n"
     ]
    },
    {
     "name": "stderr",
     "output_type": "stream",
     "text": [
      "Training:  74%|███████▍  | 37/50 [02:50<00:52,  4.06s/epoch]"
     ]
    },
    {
     "name": "stdout",
     "output_type": "stream",
     "text": [
      "Epoch 37/50 - Train Loss: 0.0747, Val Loss: 0.0784\n"
     ]
    },
    {
     "name": "stderr",
     "output_type": "stream",
     "text": [
      "Training:  76%|███████▌  | 38/50 [02:55<00:48,  4.07s/epoch]"
     ]
    },
    {
     "name": "stdout",
     "output_type": "stream",
     "text": [
      "Epoch 38/50 - Train Loss: 0.0746, Val Loss: 0.0781\n"
     ]
    },
    {
     "name": "stderr",
     "output_type": "stream",
     "text": [
      "Training:  78%|███████▊  | 39/50 [02:59<00:44,  4.06s/epoch]"
     ]
    },
    {
     "name": "stdout",
     "output_type": "stream",
     "text": [
      "Epoch 39/50 - Train Loss: 0.0746, Val Loss: 0.0789\n"
     ]
    },
    {
     "name": "stderr",
     "output_type": "stream",
     "text": [
      "Training:  80%|████████  | 40/50 [03:03<00:40,  4.07s/epoch]"
     ]
    },
    {
     "name": "stdout",
     "output_type": "stream",
     "text": [
      "Epoch 40/50 - Train Loss: 0.0745, Val Loss: 0.0782\n"
     ]
    },
    {
     "name": "stderr",
     "output_type": "stream",
     "text": [
      "Training:  82%|████████▏ | 41/50 [03:07<00:36,  4.04s/epoch]"
     ]
    },
    {
     "name": "stdout",
     "output_type": "stream",
     "text": [
      "Epoch 41/50 - Train Loss: 0.0745, Val Loss: 0.0782\n"
     ]
    },
    {
     "name": "stderr",
     "output_type": "stream",
     "text": [
      "Training:  84%|████████▍ | 42/50 [03:11<00:32,  4.00s/epoch]"
     ]
    },
    {
     "name": "stdout",
     "output_type": "stream",
     "text": [
      "Epoch 42/50 - Train Loss: 0.0745, Val Loss: 0.0789\n"
     ]
    },
    {
     "name": "stderr",
     "output_type": "stream",
     "text": [
      "Training:  86%|████████▌ | 43/50 [03:15<00:27,  3.99s/epoch]"
     ]
    },
    {
     "name": "stdout",
     "output_type": "stream",
     "text": [
      "Epoch 43/50 - Train Loss: 0.0745, Val Loss: 0.0777\n"
     ]
    },
    {
     "name": "stderr",
     "output_type": "stream",
     "text": [
      "Training:  88%|████████▊ | 44/50 [03:19<00:24,  4.01s/epoch]"
     ]
    },
    {
     "name": "stdout",
     "output_type": "stream",
     "text": [
      "Epoch 44/50 - Train Loss: 0.0744, Val Loss: 0.0775\n"
     ]
    },
    {
     "name": "stderr",
     "output_type": "stream",
     "text": [
      "Training:  90%|█████████ | 45/50 [03:23<00:20,  4.03s/epoch]"
     ]
    },
    {
     "name": "stdout",
     "output_type": "stream",
     "text": [
      "Epoch 45/50 - Train Loss: 0.0744, Val Loss: 0.0783\n"
     ]
    },
    {
     "name": "stderr",
     "output_type": "stream",
     "text": [
      "Training:  92%|█████████▏| 46/50 [03:27<00:16,  4.06s/epoch]"
     ]
    },
    {
     "name": "stdout",
     "output_type": "stream",
     "text": [
      "Epoch 46/50 - Train Loss: 0.0744, Val Loss: 0.0781\n"
     ]
    },
    {
     "name": "stderr",
     "output_type": "stream",
     "text": [
      "Training:  94%|█████████▍| 47/50 [03:31<00:12,  4.10s/epoch]"
     ]
    },
    {
     "name": "stdout",
     "output_type": "stream",
     "text": [
      "Epoch 47/50 - Train Loss: 0.0743, Val Loss: 0.0778\n"
     ]
    },
    {
     "name": "stderr",
     "output_type": "stream",
     "text": [
      "Training:  96%|█████████▌| 48/50 [03:35<00:08,  4.13s/epoch]"
     ]
    },
    {
     "name": "stdout",
     "output_type": "stream",
     "text": [
      "Epoch 48/50 - Train Loss: 0.0743, Val Loss: 0.0781\n"
     ]
    },
    {
     "name": "stderr",
     "output_type": "stream",
     "text": [
      "Training:  98%|█████████▊| 49/50 [03:39<00:04,  4.11s/epoch]"
     ]
    },
    {
     "name": "stdout",
     "output_type": "stream",
     "text": [
      "Epoch 49/50 - Train Loss: 0.0743, Val Loss: 0.0775\n"
     ]
    },
    {
     "name": "stderr",
     "output_type": "stream",
     "text": [
      "Training: 100%|██████████| 50/50 [03:43<00:00,  4.48s/epoch]"
     ]
    },
    {
     "name": "stdout",
     "output_type": "stream",
     "text": [
      "Epoch 50/50 - Train Loss: 0.0742, Val Loss: 0.0777\n"
     ]
    },
    {
     "name": "stderr",
     "output_type": "stream",
     "text": [
      "\n"
     ]
    }
   ],
   "execution_count": 17
  },
  {
   "cell_type": "markdown",
   "source": [
    "### Visualization of training process\n",
    "We can plot the train loss against the validation loss over the training epochs."
   ],
   "metadata": {
    "collapsed": false
   },
   "id": "c05a875fb1b30f1"
  },
  {
   "cell_type": "code",
   "execution_count": 20,
   "outputs": [
    {
     "data": {
      "text/plain": "<Figure size 1000x500 with 1 Axes>",
      "image/png": "[encoded data removed]"
     },
     "metadata": {},
     "output_type": "display_data"
    }
   ],
   "source": [
    "plt.figure(figsize=(10, 5))\n",
    "plt.plot(range(1, len(train_losses) + 1), train_losses, label='Train Loss')\n",
    "plt.plot(range(1, len(val_losses) + 1), val_losses, label='Validation Loss')\n",
    "plt.xlabel('Epochs')\n",
    "plt.ylabel('Loss')\n",
    "plt.title('Training vs Validation Loss')\n",
    "plt.legend()\n",
    "plt.grid()\n",
    "plt.show()\n"
   ],
   "metadata": {
    "collapsed": false,
    "ExecuteTime": {
     "end_time": "2025-01-25T15:51:06.306465Z",
     "start_time": "2025-01-25T15:51:06.195659Z"
    }
   },
   "id": "45bb8f147b60d76b"
  },
  {
   "cell_type": "markdown",
   "source": [
    "Now evaluate it\n",
    "We developed our own metrics:\n",
    "\n",
    "Evaluation Metrics:\n",
    "\n",
    "1. Precision, Recall, F1-score:\n",
    "   - Precision: Measures the proportion of correctly predicted edges out of all predicted edges.\n",
    "   - Recall: Measures the proportion of correctly predicted edges out of all actual edges.\n",
    "   - F1-score: Harmonic mean of precision and recall, balancing both metrics.\n",
    "\n",
    "2. Hamming Distance:\n",
    "   - Counts the number of differing edges between the predicted and target adjacency matrices.\n",
    "\n",
    "3. Jaccard Similarity:\n",
    "   - Measures the overlap between predicted and actual edge sets, calculated as the intersection over the union.\n",
    "\n",
    "4. Graph Edit Distance:\n",
    "   - Computes the minimum number of edge insertions, deletions, or substitutions to transform the predicted graph into the target graph.\n",
    "\n",
    "\n",
    "\n",
    "We took the mean over all test samples.\n",
    "\n"
   ],
   "metadata": {
    "collapsed": false
   },
   "id": "ec022aa81ee58718"
  },
  {
   "metadata": {
    "ExecuteTime": {
     "end_time": "2025-01-25T15:51:12.417622Z",
     "start_time": "2025-01-25T15:51:12.388927Z"
    }
   },
   "cell_type": "code",
   "source": [
    "model_file_path = 'edge_predictor_model.pth'\n",
    "prediction_model: MyPredictionModel = load_model(model_file_path)"
   ],
   "id": "856e283d27a49357",
   "outputs": [],
   "execution_count": 21
  },
  {
   "cell_type": "code",
   "id": "ddf78015f64ebea5",
   "metadata": {
    "ExecuteTime": {
     "end_time": "2025-01-25T16:29:34.831038Z",
     "start_time": "2025-01-25T16:03:03.858538Z"
    }
   },
   "source": [
    "instances = [(graph.get_parts(), graph) for graph in test_graphs]\n",
    "evaluate_all_metrics(prediction_model, instances)"
   ],
   "outputs": [
    {
     "name": "stderr",
     "output_type": "stream",
     "text": [
      "Processing graphs:  14%|█▎        | 152/1116 [26:30<2:48:06, 10.46s/graph, failed=0, P=0.8798, R=0.9991, F1=0.9291, Hamming=1.4211, Jaccard=0.8794, Edit Dist=1.4211, Acc=96.35%]\n"
     ]
    },
    {
     "ename": "KeyboardInterrupt",
     "evalue": "",
     "output_type": "error",
     "traceback": [
      "\u001B[0;31m---------------------------------------------------------------------------\u001B[0m",
      "\u001B[0;31mKeyboardInterrupt\u001B[0m                         Traceback (most recent call last)",
      "Cell \u001B[0;32mIn[27], line 2\u001B[0m\n\u001B[1;32m      1\u001B[0m instances \u001B[38;5;241m=\u001B[39m [(graph\u001B[38;5;241m.\u001B[39mget_parts(), graph) \u001B[38;5;28;01mfor\u001B[39;00m graph \u001B[38;5;129;01min\u001B[39;00m test_graphs]\n\u001B[0;32m----> 2\u001B[0m \u001B[43mevaluate_all_metrics\u001B[49m\u001B[43m(\u001B[49m\u001B[43mprediction_model\u001B[49m\u001B[43m,\u001B[49m\u001B[43m \u001B[49m\u001B[43minstances\u001B[49m\u001B[43m)\u001B[49m\n",
      "File \u001B[0;32m~/PycharmProjects/ai-project/evaluation.py:151\u001B[0m, in \u001B[0;36mevaluate_all_metrics\u001B[0;34m(model, data_set)\u001B[0m\n\u001B[1;32m    148\u001B[0m jaccard_similarities\u001B[38;5;241m.\u001B[39mappend(edge_jaccard_similarity(predicted_graph, target_graph))\n\u001B[1;32m    150\u001B[0m \u001B[38;5;66;03m# Compute Graph edit distance\u001B[39;00m\n\u001B[0;32m--> 151\u001B[0m edit_distances\u001B[38;5;241m.\u001B[39mappend(\u001B[43mgraph_edit_distance\u001B[49m\u001B[43m(\u001B[49m\u001B[43mpredicted_graph\u001B[49m\u001B[43m,\u001B[49m\u001B[43m \u001B[49m\u001B[43mtarget_graph\u001B[49m\u001B[43m)\u001B[49m)\n\u001B[1;32m    153\u001B[0m \u001B[38;5;66;03m# Edge accuracy\u001B[39;00m\n\u001B[1;32m    154\u001B[0m edge_accuracies\u001B[38;5;241m.\u001B[39mappend(edge_accuracy(predicted_graph, target_graph) \u001B[38;5;241m/\u001B[39m (\u001B[38;5;28mlen\u001B[39m(input_parts) \u001B[38;5;241m*\u001B[39m \u001B[38;5;28mlen\u001B[39m(input_parts)))\n",
      "File \u001B[0;32m~/PycharmProjects/ai-project/evaluation.py:107\u001B[0m, in \u001B[0;36mgraph_edit_distance\u001B[0;34m(predicted_graph, target_graph)\u001B[0m\n\u001B[1;32m    105\u001B[0m \u001B[38;5;28;01mfor\u001B[39;00m perm \u001B[38;5;129;01min\u001B[39;00m perms:\n\u001B[1;32m    106\u001B[0m     predicted_nx_graph \u001B[38;5;241m=\u001B[39m nx\u001B[38;5;241m.\u001B[39mGraph(predicted_graph\u001B[38;5;241m.\u001B[39mget_adjacency_matrix(perm))\n\u001B[0;32m--> 107\u001B[0m     edit \u001B[38;5;241m=\u001B[39m \u001B[43mnx\u001B[49m\u001B[38;5;241;43m.\u001B[39;49m\u001B[43mgraph_edit_distance\u001B[49m\u001B[43m(\u001B[49m\u001B[43mpredicted_nx_graph\u001B[49m\u001B[43m,\u001B[49m\u001B[43m \u001B[49m\u001B[43mtarget_nx_graph\u001B[49m\u001B[43m)\u001B[49m\n\u001B[1;32m    108\u001B[0m     best_edit \u001B[38;5;241m=\u001B[39m \u001B[38;5;28mmin\u001B[39m(best_edit, edit)\n\u001B[1;32m    110\u001B[0m \u001B[38;5;28;01mreturn\u001B[39;00m best_edit\n",
      "File \u001B[0;32m/Users/anaconda3/envs/ai-project/lib/python3.8/site-packages/networkx/algorithms/similarity.py:189\u001B[0m, in \u001B[0;36mgraph_edit_distance\u001B[0;34m(G1, G2, node_match, edge_match, node_subst_cost, node_del_cost, node_ins_cost, edge_subst_cost, edge_del_cost, edge_ins_cost, roots, upper_bound, timeout)\u001B[0m\n\u001B[1;32m     54\u001B[0m \u001B[38;5;250m\u001B[39m\u001B[38;5;124;03m\"\"\"Returns GED (graph edit distance) between graphs G1 and G2.\u001B[39;00m\n\u001B[1;32m     55\u001B[0m \n\u001B[1;32m     56\u001B[0m \u001B[38;5;124;03mGraph edit distance is a graph similarity measure analogous to\u001B[39;00m\n\u001B[0;32m   (...)\u001B[0m\n\u001B[1;32m    186\u001B[0m \n\u001B[1;32m    187\u001B[0m \u001B[38;5;124;03m\"\"\"\u001B[39;00m\n\u001B[1;32m    188\u001B[0m bestcost \u001B[38;5;241m=\u001B[39m \u001B[38;5;28;01mNone\u001B[39;00m\n\u001B[0;32m--> 189\u001B[0m \u001B[38;5;28;01mfor\u001B[39;00m _, _, cost \u001B[38;5;129;01min\u001B[39;00m optimize_edit_paths(\n\u001B[1;32m    190\u001B[0m     G1,\n\u001B[1;32m    191\u001B[0m     G2,\n\u001B[1;32m    192\u001B[0m     node_match,\n\u001B[1;32m    193\u001B[0m     edge_match,\n\u001B[1;32m    194\u001B[0m     node_subst_cost,\n\u001B[1;32m    195\u001B[0m     node_del_cost,\n\u001B[1;32m    196\u001B[0m     node_ins_cost,\n\u001B[1;32m    197\u001B[0m     edge_subst_cost,\n\u001B[1;32m    198\u001B[0m     edge_del_cost,\n\u001B[1;32m    199\u001B[0m     edge_ins_cost,\n\u001B[1;32m    200\u001B[0m     upper_bound,\n\u001B[1;32m    201\u001B[0m     \u001B[38;5;28;01mTrue\u001B[39;00m,\n\u001B[1;32m    202\u001B[0m     roots,\n\u001B[1;32m    203\u001B[0m     timeout,\n\u001B[1;32m    204\u001B[0m ):\n\u001B[1;32m    205\u001B[0m     \u001B[38;5;66;03m# assert bestcost is None or cost < bestcost\u001B[39;00m\n\u001B[1;32m    206\u001B[0m     bestcost \u001B[38;5;241m=\u001B[39m cost\n\u001B[1;32m    207\u001B[0m \u001B[38;5;28;01mreturn\u001B[39;00m bestcost\n",
      "File \u001B[0;32m/Users/anaconda3/envs/ai-project/lib/python3.8/site-packages/networkx/algorithms/similarity.py:1187\u001B[0m, in \u001B[0;36moptimize_edit_paths\u001B[0;34m(G1, G2, node_match, edge_match, node_subst_cost, node_del_cost, node_ins_cost, edge_subst_cost, edge_del_cost, edge_ins_cost, upper_bound, strictly_decreasing, roots, timeout)\u001B[0m\n\u001B[1;32m   1183\u001B[0m \u001B[38;5;66;03m# Now go!\u001B[39;00m\n\u001B[1;32m   1185\u001B[0m done_uv \u001B[38;5;241m=\u001B[39m [] \u001B[38;5;28;01mif\u001B[39;00m roots \u001B[38;5;129;01mis\u001B[39;00m \u001B[38;5;28;01mNone\u001B[39;00m \u001B[38;5;28;01melse\u001B[39;00m [roots]\n\u001B[0;32m-> 1187\u001B[0m \u001B[38;5;28;01mfor\u001B[39;00m vertex_path, edge_path, cost \u001B[38;5;129;01min\u001B[39;00m get_edit_paths(\n\u001B[1;32m   1188\u001B[0m     done_uv, pending_u, pending_v, Cv, [], pending_g, pending_h, Ce, initial_cost\n\u001B[1;32m   1189\u001B[0m ):\n\u001B[1;32m   1190\u001B[0m     \u001B[38;5;66;03m# assert sorted(G1.nodes) == sorted(u for u, v in vertex_path if u is not None)\u001B[39;00m\n\u001B[1;32m   1191\u001B[0m     \u001B[38;5;66;03m# assert sorted(G2.nodes) == sorted(v for u, v in vertex_path if v is not None)\u001B[39;00m\n\u001B[1;32m   1192\u001B[0m     \u001B[38;5;66;03m# assert sorted(G1.edges) == sorted(g for g, h in edge_path if g is not None)\u001B[39;00m\n\u001B[1;32m   1193\u001B[0m     \u001B[38;5;66;03m# assert sorted(G2.edges) == sorted(h for g, h in edge_path if h is not None)\u001B[39;00m\n\u001B[1;32m   1194\u001B[0m     \u001B[38;5;66;03m# print(vertex_path, edge_path, cost, file = sys.stderr)\u001B[39;00m\n\u001B[1;32m   1195\u001B[0m     \u001B[38;5;66;03m# assert cost == maxcost_value\u001B[39;00m\n\u001B[1;32m   1196\u001B[0m     \u001B[38;5;28;01myield\u001B[39;00m \u001B[38;5;28mlist\u001B[39m(vertex_path), \u001B[38;5;28mlist\u001B[39m(edge_path), cost\n",
      "File \u001B[0;32m/Users/anaconda3/envs/ai-project/lib/python3.8/site-packages/networkx/algorithms/similarity.py:1023\u001B[0m, in \u001B[0;36moptimize_edit_paths.<locals>.get_edit_paths\u001B[0;34m(matched_uv, pending_u, pending_v, Cv, matched_gh, pending_g, pending_h, Ce, matched_cost)\u001B[0m\n\u001B[1;32m   1014\u001B[0m G \u001B[38;5;241m=\u001B[39m [\n\u001B[1;32m   1015\u001B[0m     (pending_g\u001B[38;5;241m.\u001B[39mpop(x) \u001B[38;5;28;01mif\u001B[39;00m x \u001B[38;5;241m<\u001B[39m \u001B[38;5;28mlen\u001B[39m(pending_g) \u001B[38;5;28;01melse\u001B[39;00m \u001B[38;5;28;01mNone\u001B[39;00m)\n\u001B[1;32m   1016\u001B[0m     \u001B[38;5;28;01mfor\u001B[39;00m x \u001B[38;5;129;01min\u001B[39;00m \u001B[38;5;28mreversed\u001B[39m(sortedx)\n\u001B[1;32m   1017\u001B[0m ]\n\u001B[1;32m   1018\u001B[0m H \u001B[38;5;241m=\u001B[39m [\n\u001B[1;32m   1019\u001B[0m     (pending_h\u001B[38;5;241m.\u001B[39mpop(y) \u001B[38;5;28;01mif\u001B[39;00m y \u001B[38;5;241m<\u001B[39m \u001B[38;5;28mlen\u001B[39m(pending_h) \u001B[38;5;28;01melse\u001B[39;00m \u001B[38;5;28;01mNone\u001B[39;00m)\n\u001B[1;32m   1020\u001B[0m     \u001B[38;5;28;01mfor\u001B[39;00m y \u001B[38;5;129;01min\u001B[39;00m \u001B[38;5;28mreversed\u001B[39m(sortedy)\n\u001B[1;32m   1021\u001B[0m ]\n\u001B[0;32m-> 1023\u001B[0m \u001B[38;5;28;01myield from\u001B[39;00m get_edit_paths(\n\u001B[1;32m   1024\u001B[0m     matched_uv,\n\u001B[1;32m   1025\u001B[0m     pending_u,\n\u001B[1;32m   1026\u001B[0m     pending_v,\n\u001B[1;32m   1027\u001B[0m     Cv_ij,\n\u001B[1;32m   1028\u001B[0m     matched_gh,\n\u001B[1;32m   1029\u001B[0m     pending_g,\n\u001B[1;32m   1030\u001B[0m     pending_h,\n\u001B[1;32m   1031\u001B[0m     Ce_xy,\n\u001B[1;32m   1032\u001B[0m     matched_cost \u001B[38;5;241m+\u001B[39m edit_cost,\n\u001B[1;32m   1033\u001B[0m )\n\u001B[1;32m   1035\u001B[0m \u001B[38;5;66;03m# backtrack\u001B[39;00m\n\u001B[1;32m   1036\u001B[0m \u001B[38;5;28;01mif\u001B[39;00m u \u001B[38;5;129;01mis\u001B[39;00m \u001B[38;5;129;01mnot\u001B[39;00m \u001B[38;5;28;01mNone\u001B[39;00m:\n",
      "File \u001B[0;32m/Users/anaconda3/envs/ai-project/lib/python3.8/site-packages/networkx/algorithms/similarity.py:1023\u001B[0m, in \u001B[0;36moptimize_edit_paths.<locals>.get_edit_paths\u001B[0;34m(matched_uv, pending_u, pending_v, Cv, matched_gh, pending_g, pending_h, Ce, matched_cost)\u001B[0m\n\u001B[1;32m   1014\u001B[0m G \u001B[38;5;241m=\u001B[39m [\n\u001B[1;32m   1015\u001B[0m     (pending_g\u001B[38;5;241m.\u001B[39mpop(x) \u001B[38;5;28;01mif\u001B[39;00m x \u001B[38;5;241m<\u001B[39m \u001B[38;5;28mlen\u001B[39m(pending_g) \u001B[38;5;28;01melse\u001B[39;00m \u001B[38;5;28;01mNone\u001B[39;00m)\n\u001B[1;32m   1016\u001B[0m     \u001B[38;5;28;01mfor\u001B[39;00m x \u001B[38;5;129;01min\u001B[39;00m \u001B[38;5;28mreversed\u001B[39m(sortedx)\n\u001B[1;32m   1017\u001B[0m ]\n\u001B[1;32m   1018\u001B[0m H \u001B[38;5;241m=\u001B[39m [\n\u001B[1;32m   1019\u001B[0m     (pending_h\u001B[38;5;241m.\u001B[39mpop(y) \u001B[38;5;28;01mif\u001B[39;00m y \u001B[38;5;241m<\u001B[39m \u001B[38;5;28mlen\u001B[39m(pending_h) \u001B[38;5;28;01melse\u001B[39;00m \u001B[38;5;28;01mNone\u001B[39;00m)\n\u001B[1;32m   1020\u001B[0m     \u001B[38;5;28;01mfor\u001B[39;00m y \u001B[38;5;129;01min\u001B[39;00m \u001B[38;5;28mreversed\u001B[39m(sortedy)\n\u001B[1;32m   1021\u001B[0m ]\n\u001B[0;32m-> 1023\u001B[0m \u001B[38;5;28;01myield from\u001B[39;00m get_edit_paths(\n\u001B[1;32m   1024\u001B[0m     matched_uv,\n\u001B[1;32m   1025\u001B[0m     pending_u,\n\u001B[1;32m   1026\u001B[0m     pending_v,\n\u001B[1;32m   1027\u001B[0m     Cv_ij,\n\u001B[1;32m   1028\u001B[0m     matched_gh,\n\u001B[1;32m   1029\u001B[0m     pending_g,\n\u001B[1;32m   1030\u001B[0m     pending_h,\n\u001B[1;32m   1031\u001B[0m     Ce_xy,\n\u001B[1;32m   1032\u001B[0m     matched_cost \u001B[38;5;241m+\u001B[39m edit_cost,\n\u001B[1;32m   1033\u001B[0m )\n\u001B[1;32m   1035\u001B[0m \u001B[38;5;66;03m# backtrack\u001B[39;00m\n\u001B[1;32m   1036\u001B[0m \u001B[38;5;28;01mif\u001B[39;00m u \u001B[38;5;129;01mis\u001B[39;00m \u001B[38;5;129;01mnot\u001B[39;00m \u001B[38;5;28;01mNone\u001B[39;00m:\n",
      "    \u001B[0;31m[... skipping similar frames: optimize_edit_paths.<locals>.get_edit_paths at line 1023 (5 times)]\u001B[0m\n",
      "File \u001B[0;32m/Users/anaconda3/envs/ai-project/lib/python3.8/site-packages/networkx/algorithms/similarity.py:1023\u001B[0m, in \u001B[0;36moptimize_edit_paths.<locals>.get_edit_paths\u001B[0;34m(matched_uv, pending_u, pending_v, Cv, matched_gh, pending_g, pending_h, Ce, matched_cost)\u001B[0m\n\u001B[1;32m   1014\u001B[0m G \u001B[38;5;241m=\u001B[39m [\n\u001B[1;32m   1015\u001B[0m     (pending_g\u001B[38;5;241m.\u001B[39mpop(x) \u001B[38;5;28;01mif\u001B[39;00m x \u001B[38;5;241m<\u001B[39m \u001B[38;5;28mlen\u001B[39m(pending_g) \u001B[38;5;28;01melse\u001B[39;00m \u001B[38;5;28;01mNone\u001B[39;00m)\n\u001B[1;32m   1016\u001B[0m     \u001B[38;5;28;01mfor\u001B[39;00m x \u001B[38;5;129;01min\u001B[39;00m \u001B[38;5;28mreversed\u001B[39m(sortedx)\n\u001B[1;32m   1017\u001B[0m ]\n\u001B[1;32m   1018\u001B[0m H \u001B[38;5;241m=\u001B[39m [\n\u001B[1;32m   1019\u001B[0m     (pending_h\u001B[38;5;241m.\u001B[39mpop(y) \u001B[38;5;28;01mif\u001B[39;00m y \u001B[38;5;241m<\u001B[39m \u001B[38;5;28mlen\u001B[39m(pending_h) \u001B[38;5;28;01melse\u001B[39;00m \u001B[38;5;28;01mNone\u001B[39;00m)\n\u001B[1;32m   1020\u001B[0m     \u001B[38;5;28;01mfor\u001B[39;00m y \u001B[38;5;129;01min\u001B[39;00m \u001B[38;5;28mreversed\u001B[39m(sortedy)\n\u001B[1;32m   1021\u001B[0m ]\n\u001B[0;32m-> 1023\u001B[0m \u001B[38;5;28;01myield from\u001B[39;00m get_edit_paths(\n\u001B[1;32m   1024\u001B[0m     matched_uv,\n\u001B[1;32m   1025\u001B[0m     pending_u,\n\u001B[1;32m   1026\u001B[0m     pending_v,\n\u001B[1;32m   1027\u001B[0m     Cv_ij,\n\u001B[1;32m   1028\u001B[0m     matched_gh,\n\u001B[1;32m   1029\u001B[0m     pending_g,\n\u001B[1;32m   1030\u001B[0m     pending_h,\n\u001B[1;32m   1031\u001B[0m     Ce_xy,\n\u001B[1;32m   1032\u001B[0m     matched_cost \u001B[38;5;241m+\u001B[39m edit_cost,\n\u001B[1;32m   1033\u001B[0m )\n\u001B[1;32m   1035\u001B[0m \u001B[38;5;66;03m# backtrack\u001B[39;00m\n\u001B[1;32m   1036\u001B[0m \u001B[38;5;28;01mif\u001B[39;00m u \u001B[38;5;129;01mis\u001B[39;00m \u001B[38;5;129;01mnot\u001B[39;00m \u001B[38;5;28;01mNone\u001B[39;00m:\n",
      "File \u001B[0;32m/Users/anaconda3/envs/ai-project/lib/python3.8/site-packages/networkx/algorithms/similarity.py:993\u001B[0m, in \u001B[0;36moptimize_edit_paths.<locals>.get_edit_paths\u001B[0;34m(matched_uv, pending_u, pending_v, Cv, matched_gh, pending_g, pending_h, Ce, matched_cost)\u001B[0m\n\u001B[1;32m    982\u001B[0m \u001B[38;5;28;01melse\u001B[39;00m:\n\u001B[1;32m    983\u001B[0m     edit_ops \u001B[38;5;241m=\u001B[39m get_edit_ops(\n\u001B[1;32m    984\u001B[0m         matched_uv,\n\u001B[1;32m    985\u001B[0m         pending_u,\n\u001B[0;32m   (...)\u001B[0m\n\u001B[1;32m    991\u001B[0m         matched_cost,\n\u001B[1;32m    992\u001B[0m     )\n\u001B[0;32m--> 993\u001B[0m     \u001B[38;5;28;01mfor\u001B[39;00m ij, Cv_ij, xy, Ce_xy, edit_cost \u001B[38;5;129;01min\u001B[39;00m edit_ops:\n\u001B[1;32m    994\u001B[0m         i, j \u001B[38;5;241m=\u001B[39m ij\n\u001B[1;32m    995\u001B[0m         \u001B[38;5;66;03m# assert Cv.C[i, j] + sum(Ce.C[t] for t in xy) == edit_cost\u001B[39;00m\n",
      "File \u001B[0;32m/Users/anaconda3/envs/ai-project/lib/python3.8/site-packages/networkx/algorithms/similarity.py:893\u001B[0m, in \u001B[0;36moptimize_edit_paths.<locals>.get_edit_ops\u001B[0;34m(matched_uv, pending_u, pending_v, Cv, pending_g, pending_h, Ce, matched_cost)\u001B[0m\n\u001B[1;32m    891\u001B[0m \u001B[38;5;28;01mif\u001B[39;00m prune(matched_cost \u001B[38;5;241m+\u001B[39m Cv\u001B[38;5;241m.\u001B[39mC[i, j] \u001B[38;5;241m+\u001B[39m Ce\u001B[38;5;241m.\u001B[39mls):\n\u001B[1;32m    892\u001B[0m     \u001B[38;5;28;01mcontinue\u001B[39;00m\n\u001B[0;32m--> 893\u001B[0m Cv_ij \u001B[38;5;241m=\u001B[39m \u001B[43mmake_CostMatrix\u001B[49m\u001B[43m(\u001B[49m\n\u001B[1;32m    894\u001B[0m \u001B[43m    \u001B[49m\u001B[43mreduce_C\u001B[49m\u001B[43m(\u001B[49m\u001B[43mCv\u001B[49m\u001B[38;5;241;43m.\u001B[39;49m\u001B[43mC\u001B[49m\u001B[43m,\u001B[49m\u001B[43m \u001B[49m\u001B[43m(\u001B[49m\u001B[43mi\u001B[49m\u001B[43m,\u001B[49m\u001B[43m)\u001B[49m\u001B[43m,\u001B[49m\u001B[43m \u001B[49m\u001B[43m(\u001B[49m\u001B[43mj\u001B[49m\u001B[43m,\u001B[49m\u001B[43m)\u001B[49m\u001B[43m,\u001B[49m\u001B[43m \u001B[49m\u001B[43mm\u001B[49m\u001B[43m,\u001B[49m\u001B[43m \u001B[49m\u001B[43mn\u001B[49m\u001B[43m)\u001B[49m\u001B[43m,\u001B[49m\n\u001B[1;32m    895\u001B[0m \u001B[43m    \u001B[49m\u001B[43mm\u001B[49m\u001B[43m \u001B[49m\u001B[38;5;241;43m-\u001B[39;49m\u001B[43m \u001B[49m\u001B[38;5;241;43m1\u001B[39;49m\u001B[43m \u001B[49m\u001B[38;5;28;43;01mif\u001B[39;49;00m\u001B[43m \u001B[49m\u001B[43mi\u001B[49m\u001B[43m \u001B[49m\u001B[38;5;241;43m<\u001B[39;49m\u001B[43m \u001B[49m\u001B[43mm\u001B[49m\u001B[43m \u001B[49m\u001B[38;5;28;43;01melse\u001B[39;49;00m\u001B[43m \u001B[49m\u001B[43mm\u001B[49m\u001B[43m,\u001B[49m\n\u001B[1;32m    896\u001B[0m \u001B[43m    \u001B[49m\u001B[43mn\u001B[49m\u001B[43m \u001B[49m\u001B[38;5;241;43m-\u001B[39;49m\u001B[43m \u001B[49m\u001B[38;5;241;43m1\u001B[39;49m\u001B[43m \u001B[49m\u001B[38;5;28;43;01mif\u001B[39;49;00m\u001B[43m \u001B[49m\u001B[43mj\u001B[49m\u001B[43m \u001B[49m\u001B[38;5;241;43m<\u001B[39;49m\u001B[43m \u001B[49m\u001B[43mn\u001B[49m\u001B[43m \u001B[49m\u001B[38;5;28;43;01melse\u001B[39;49;00m\u001B[43m \u001B[49m\u001B[43mn\u001B[49m\u001B[43m,\u001B[49m\n\u001B[1;32m    897\u001B[0m \u001B[43m\u001B[49m\u001B[43m)\u001B[49m\n\u001B[1;32m    898\u001B[0m \u001B[38;5;66;03m# assert Cv.ls <= Cv.C[i, j] + Cv_ij.ls\u001B[39;00m\n\u001B[1;32m    899\u001B[0m \u001B[38;5;28;01mif\u001B[39;00m prune(matched_cost \u001B[38;5;241m+\u001B[39m Cv\u001B[38;5;241m.\u001B[39mC[i, j] \u001B[38;5;241m+\u001B[39m Cv_ij\u001B[38;5;241m.\u001B[39mls \u001B[38;5;241m+\u001B[39m Ce\u001B[38;5;241m.\u001B[39mls):\n",
      "File \u001B[0;32m/Users/anaconda3/envs/ai-project/lib/python3.8/site-packages/networkx/algorithms/similarity.py:694\u001B[0m, in \u001B[0;36moptimize_edit_paths.<locals>.make_CostMatrix\u001B[0;34m(C, m, n)\u001B[0m\n\u001B[1;32m    692\u001B[0m dummy_ind \u001B[38;5;241m=\u001B[39m [k \u001B[38;5;28;01mfor\u001B[39;00m k, i, j \u001B[38;5;129;01min\u001B[39;00m indexes \u001B[38;5;28;01mif\u001B[39;00m i \u001B[38;5;241m>\u001B[39m\u001B[38;5;241m=\u001B[39m m \u001B[38;5;129;01mand\u001B[39;00m j \u001B[38;5;241m>\u001B[39m\u001B[38;5;241m=\u001B[39m n]\n\u001B[1;32m    693\u001B[0m \u001B[38;5;66;03m# assert len(subst_ind) == len(dummy_ind)\u001B[39;00m\n\u001B[0;32m--> 694\u001B[0m lsa_row_ind[dummy_ind] \u001B[38;5;241m=\u001B[39m \u001B[43mlsa_col_ind\u001B[49m\u001B[43m[\u001B[49m\u001B[43msubst_ind\u001B[49m\u001B[43m]\u001B[49m \u001B[38;5;241m+\u001B[39m m\n\u001B[1;32m    695\u001B[0m lsa_col_ind[dummy_ind] \u001B[38;5;241m=\u001B[39m lsa_row_ind[subst_ind] \u001B[38;5;241m+\u001B[39m n\n\u001B[1;32m    697\u001B[0m \u001B[38;5;28;01mreturn\u001B[39;00m CostMatrix(\n\u001B[1;32m    698\u001B[0m     C, lsa_row_ind, lsa_col_ind, C[lsa_row_ind, lsa_col_ind]\u001B[38;5;241m.\u001B[39msum()\n\u001B[1;32m    699\u001B[0m )\n",
      "\u001B[0;31mKeyboardInterrupt\u001B[0m: "
     ]
    }
   ],
   "execution_count": 27
  },
  {
   "cell_type": "markdown",
   "id": "44575e301020d10a",
   "metadata": {},
   "source": [
    "# Second Method: GNN"
   ]
  },
  {
   "cell_type": "code",
   "id": "13399306b525fc3e",
   "metadata": {
    "ExecuteTime": {
     "end_time": "2025-01-25T15:10:30.081195Z",
     "start_time": "2025-01-25T15:10:30.014554Z"
    }
   },
   "source": [
    "def train_graph_predictor(model, train_graphs_list, val_graphs_list, optimizer, criterion, epochs=100):\n",
    "    train_losses = []\n",
    "    val_losses = []\n",
    "\n",
    "    for epoch in tqdm(range(epochs), desc=\"Training\", unit=\"epoch\", total=epochs):\n",
    "        model.train()\n",
    "        total_train_loss = 0.0\n",
    "\n",
    "        for graph in train_graphs_list:\n",
    "            optimizer.zero_grad()\n",
    "\n",
    "            # Sort nodes\n",
    "            nodes = sorted(\n",
    "                graph.get_nodes(),\n",
    "                key=lambda node: (node.get_part().get_part_id(), node.get_part().get_family_id())\n",
    "            )\n",
    "\n",
    "            # Prepare part/family IDs\n",
    "            part_ids = torch.tensor(\n",
    "                [int(node.get_part().get_part_id()) for node in nodes],\n",
    "                dtype=torch.long\n",
    "            )\n",
    "            family_ids = torch.tensor(\n",
    "                [int(node.get_part().get_family_id()) for node in nodes],\n",
    "                dtype=torch.long\n",
    "            )\n",
    "\n",
    "            # Build adjacency on the same device\n",
    "            part_order = tuple(node.get_part() for node in nodes)\n",
    "            adjacency_matrix = torch.tensor(\n",
    "                graph.get_adjacency_matrix(part_order),\n",
    "                dtype=torch.float32\n",
    "            )\n",
    "\n",
    "            # Forward pass\n",
    "            logits = model(part_ids, family_ids)\n",
    "\n",
    "            # Flatten for loss\n",
    "            target = adjacency_matrix.flatten()\n",
    "            loss = criterion(logits.flatten(), target)\n",
    "\n",
    "            loss.backward()\n",
    "            optimizer.step()\n",
    "            total_train_loss += loss.item()\n",
    "\n",
    "        avg_train_loss = total_train_loss / len(train_graphs_list)\n",
    "        train_losses.append(avg_train_loss)\n",
    "\n",
    "        # Validation phase\n",
    "        model.eval()\n",
    "        total_val_loss = 0.0\n",
    "        with torch.no_grad():\n",
    "            for graph in val_graphs_list:\n",
    "                nodes = sorted(\n",
    "                    graph.get_nodes(),\n",
    "                    key=lambda node: (node.get_part().get_part_id(), node.get_part().get_family_id())\n",
    "                )\n",
    "\n",
    "                part_ids = torch.tensor(\n",
    "                    [int(node.get_part().get_part_id()) for node in nodes],\n",
    "                    dtype=torch.long\n",
    "                )\n",
    "                family_ids = torch.tensor(\n",
    "                    [int(node.get_part().get_family_id()) for node in nodes],\n",
    "                    dtype=torch.long\n",
    "                )\n",
    "\n",
    "                part_order = tuple(node.get_part() for node in nodes)\n",
    "                adjacency_matrix = torch.tensor(\n",
    "                    graph.get_adjacency_matrix(part_order),\n",
    "                    dtype=torch.float32\n",
    "                )\n",
    "\n",
    "                logits = model(part_ids, family_ids)\n",
    "                target = adjacency_matrix.flatten()\n",
    "                val_loss = criterion(logits.flatten(), target)\n",
    "                total_val_loss += val_loss.item()\n",
    "\n",
    "        avg_val_loss = total_val_loss / len(val_graphs_list)\n",
    "        val_losses.append(avg_val_loss)\n",
    "\n",
    "        print(f\"Epoch {epoch + 1}/{epochs} - Train Loss: {avg_train_loss:.4f}, Val Loss: {avg_val_loss:.4f}\")\n",
    "\n",
    "    return train_losses, val_losses\n"
   ],
   "outputs": [],
   "execution_count": 9
  },
  {
   "cell_type": "markdown",
   "id": "1093450867ae599d",
   "metadata": {},
   "source": [
    "### Now train it and write it to disk"
   ]
  },
  {
   "cell_type": "code",
   "id": "b86d6aa5ead67d3c",
   "metadata": {
    "ExecuteTime": {
     "end_time": "2025-01-25T15:21:25.198468Z",
     "start_time": "2025-01-25T15:10:33.725842Z"
    }
   },
   "source": [
    "model = GraphPredictionModel(part_vocab_size, family_vocab_size, embed_dim=1, gnn_hidden_dim=32)\n",
    "optimizer = optim.Adam(model.parameters(), lr=0.001)\n",
    "criterion = nn.BCEWithLogitsLoss()\n",
    "\n",
    "train_losses, val_losses = train_graph_predictor(model, train_graphs_list, val_graphs, optimizer, criterion, epochs=100)\n",
    "torch.save(model.state_dict(), \"graph_predictor_model.pth\")\n",
    "\n"
   ],
   "outputs": [
    {
     "name": "stderr",
     "output_type": "stream",
     "text": [
      "Training:   1%|          | 1/100 [00:06<10:57,  6.64s/epoch]"
     ]
    },
    {
     "name": "stdout",
     "output_type": "stream",
     "text": [
      "Epoch 1/100 - Train Loss: 0.2751, Val Loss: 0.1962\n"
     ]
    },
    {
     "name": "stderr",
     "output_type": "stream",
     "text": [
      "Training:   2%|▏         | 2/100 [00:12<10:03,  6.16s/epoch]"
     ]
    },
    {
     "name": "stdout",
     "output_type": "stream",
     "text": [
      "Epoch 2/100 - Train Loss: 0.1701, Val Loss: 0.1577\n"
     ]
    },
    {
     "name": "stderr",
     "output_type": "stream",
     "text": [
      "Training:   3%|▎         | 3/100 [00:18<09:47,  6.05s/epoch]"
     ]
    },
    {
     "name": "stdout",
     "output_type": "stream",
     "text": [
      "Epoch 3/100 - Train Loss: 0.1419, Val Loss: 0.1399\n"
     ]
    },
    {
     "name": "stderr",
     "output_type": "stream",
     "text": [
      "Training:   4%|▍         | 4/100 [00:25<10:21,  6.48s/epoch]"
     ]
    },
    {
     "name": "stdout",
     "output_type": "stream",
     "text": [
      "Epoch 4/100 - Train Loss: 0.1257, Val Loss: 0.1267\n"
     ]
    },
    {
     "name": "stderr",
     "output_type": "stream",
     "text": [
      "Training:   5%|▌         | 5/100 [00:31<10:04,  6.36s/epoch]"
     ]
    },
    {
     "name": "stdout",
     "output_type": "stream",
     "text": [
      "Epoch 5/100 - Train Loss: 0.1153, Val Loss: 0.1216\n"
     ]
    },
    {
     "name": "stderr",
     "output_type": "stream",
     "text": [
      "Training:   6%|▌         | 6/100 [00:37<09:48,  6.26s/epoch]"
     ]
    },
    {
     "name": "stdout",
     "output_type": "stream",
     "text": [
      "Epoch 6/100 - Train Loss: 0.1087, Val Loss: 0.1152\n"
     ]
    },
    {
     "name": "stderr",
     "output_type": "stream",
     "text": [
      "Training:   7%|▋         | 7/100 [00:43<09:39,  6.23s/epoch]"
     ]
    },
    {
     "name": "stdout",
     "output_type": "stream",
     "text": [
      "Epoch 7/100 - Train Loss: 0.1039, Val Loss: 0.1121\n"
     ]
    },
    {
     "name": "stderr",
     "output_type": "stream",
     "text": [
      "Training:   8%|▊         | 8/100 [00:50<09:29,  6.19s/epoch]"
     ]
    },
    {
     "name": "stdout",
     "output_type": "stream",
     "text": [
      "Epoch 8/100 - Train Loss: 0.1001, Val Loss: 0.1085\n"
     ]
    },
    {
     "name": "stderr",
     "output_type": "stream",
     "text": [
      "Training:   9%|▉         | 9/100 [00:56<09:20,  6.16s/epoch]"
     ]
    },
    {
     "name": "stdout",
     "output_type": "stream",
     "text": [
      "Epoch 9/100 - Train Loss: 0.0971, Val Loss: 0.1067\n"
     ]
    },
    {
     "name": "stderr",
     "output_type": "stream",
     "text": [
      "Training:  10%|█         | 10/100 [01:04<10:30,  7.00s/epoch]"
     ]
    },
    {
     "name": "stdout",
     "output_type": "stream",
     "text": [
      "Epoch 10/100 - Train Loss: 0.0947, Val Loss: 0.1025\n"
     ]
    },
    {
     "name": "stderr",
     "output_type": "stream",
     "text": [
      "Training:  11%|█         | 11/100 [01:11<10:01,  6.76s/epoch]"
     ]
    },
    {
     "name": "stdout",
     "output_type": "stream",
     "text": [
      "Epoch 11/100 - Train Loss: 0.0924, Val Loss: 0.0991\n"
     ]
    },
    {
     "name": "stderr",
     "output_type": "stream",
     "text": [
      "Training:  12%|█▏        | 12/100 [01:17<09:37,  6.57s/epoch]"
     ]
    },
    {
     "name": "stdout",
     "output_type": "stream",
     "text": [
      "Epoch 12/100 - Train Loss: 0.0902, Val Loss: 0.0970\n"
     ]
    },
    {
     "name": "stderr",
     "output_type": "stream",
     "text": [
      "Training:  13%|█▎        | 13/100 [01:23<09:31,  6.57s/epoch]"
     ]
    },
    {
     "name": "stdout",
     "output_type": "stream",
     "text": [
      "Epoch 13/100 - Train Loss: 0.0883, Val Loss: 0.0965\n"
     ]
    },
    {
     "name": "stderr",
     "output_type": "stream",
     "text": [
      "Training:  14%|█▍        | 14/100 [01:30<09:21,  6.53s/epoch]"
     ]
    },
    {
     "name": "stdout",
     "output_type": "stream",
     "text": [
      "Epoch 14/100 - Train Loss: 0.0869, Val Loss: 0.0937\n"
     ]
    },
    {
     "name": "stderr",
     "output_type": "stream",
     "text": [
      "Training:  15%|█▌        | 15/100 [01:36<09:13,  6.51s/epoch]"
     ]
    },
    {
     "name": "stdout",
     "output_type": "stream",
     "text": [
      "Epoch 15/100 - Train Loss: 0.0856, Val Loss: 0.0922\n"
     ]
    },
    {
     "name": "stderr",
     "output_type": "stream",
     "text": [
      "Training:  16%|█▌        | 16/100 [01:43<09:02,  6.46s/epoch]"
     ]
    },
    {
     "name": "stdout",
     "output_type": "stream",
     "text": [
      "Epoch 16/100 - Train Loss: 0.0847, Val Loss: 0.0908\n"
     ]
    },
    {
     "name": "stderr",
     "output_type": "stream",
     "text": [
      "Training:  17%|█▋        | 17/100 [01:49<08:53,  6.42s/epoch]"
     ]
    },
    {
     "name": "stdout",
     "output_type": "stream",
     "text": [
      "Epoch 17/100 - Train Loss: 0.0838, Val Loss: 0.0902\n"
     ]
    },
    {
     "name": "stderr",
     "output_type": "stream",
     "text": [
      "Training:  18%|█▊        | 18/100 [01:55<08:45,  6.41s/epoch]"
     ]
    },
    {
     "name": "stdout",
     "output_type": "stream",
     "text": [
      "Epoch 18/100 - Train Loss: 0.0832, Val Loss: 0.0903\n"
     ]
    },
    {
     "name": "stderr",
     "output_type": "stream",
     "text": [
      "Training:  19%|█▉        | 19/100 [02:02<08:37,  6.39s/epoch]"
     ]
    },
    {
     "name": "stdout",
     "output_type": "stream",
     "text": [
      "Epoch 19/100 - Train Loss: 0.0826, Val Loss: 0.0873\n"
     ]
    },
    {
     "name": "stderr",
     "output_type": "stream",
     "text": [
      "Training:  20%|██        | 20/100 [02:08<08:29,  6.37s/epoch]"
     ]
    },
    {
     "name": "stdout",
     "output_type": "stream",
     "text": [
      "Epoch 20/100 - Train Loss: 0.0820, Val Loss: 0.0880\n"
     ]
    },
    {
     "name": "stderr",
     "output_type": "stream",
     "text": [
      "Training:  21%|██        | 21/100 [02:14<08:22,  6.37s/epoch]"
     ]
    },
    {
     "name": "stdout",
     "output_type": "stream",
     "text": [
      "Epoch 21/100 - Train Loss: 0.0813, Val Loss: 0.0872\n"
     ]
    },
    {
     "name": "stderr",
     "output_type": "stream",
     "text": [
      "Training:  22%|██▏       | 22/100 [02:21<08:16,  6.36s/epoch]"
     ]
    },
    {
     "name": "stdout",
     "output_type": "stream",
     "text": [
      "Epoch 22/100 - Train Loss: 0.0808, Val Loss: 0.0886\n"
     ]
    },
    {
     "name": "stderr",
     "output_type": "stream",
     "text": [
      "Training:  23%|██▎       | 23/100 [02:27<08:09,  6.36s/epoch]"
     ]
    },
    {
     "name": "stdout",
     "output_type": "stream",
     "text": [
      "Epoch 23/100 - Train Loss: 0.0805, Val Loss: 0.0863\n"
     ]
    },
    {
     "name": "stderr",
     "output_type": "stream",
     "text": [
      "Training:  24%|██▍       | 24/100 [02:33<08:03,  6.36s/epoch]"
     ]
    },
    {
     "name": "stdout",
     "output_type": "stream",
     "text": [
      "Epoch 24/100 - Train Loss: 0.0800, Val Loss: 0.0872\n"
     ]
    },
    {
     "name": "stderr",
     "output_type": "stream",
     "text": [
      "Training:  25%|██▌       | 25/100 [02:40<07:57,  6.37s/epoch]"
     ]
    },
    {
     "name": "stdout",
     "output_type": "stream",
     "text": [
      "Epoch 25/100 - Train Loss: 0.0796, Val Loss: 0.0890\n"
     ]
    },
    {
     "name": "stderr",
     "output_type": "stream",
     "text": [
      "Training:  26%|██▌       | 26/100 [02:46<07:51,  6.37s/epoch]"
     ]
    },
    {
     "name": "stdout",
     "output_type": "stream",
     "text": [
      "Epoch 26/100 - Train Loss: 0.0793, Val Loss: 0.0855\n"
     ]
    },
    {
     "name": "stderr",
     "output_type": "stream",
     "text": [
      "Training:  27%|██▋       | 27/100 [02:53<07:44,  6.36s/epoch]"
     ]
    },
    {
     "name": "stdout",
     "output_type": "stream",
     "text": [
      "Epoch 27/100 - Train Loss: 0.0790, Val Loss: 0.0846\n"
     ]
    },
    {
     "name": "stderr",
     "output_type": "stream",
     "text": [
      "Training:  28%|██▊       | 28/100 [02:59<07:38,  6.37s/epoch]"
     ]
    },
    {
     "name": "stdout",
     "output_type": "stream",
     "text": [
      "Epoch 28/100 - Train Loss: 0.0787, Val Loss: 0.0838\n"
     ]
    },
    {
     "name": "stderr",
     "output_type": "stream",
     "text": [
      "Training:  29%|██▉       | 29/100 [03:05<07:31,  6.37s/epoch]"
     ]
    },
    {
     "name": "stdout",
     "output_type": "stream",
     "text": [
      "Epoch 29/100 - Train Loss: 0.0783, Val Loss: 0.0849\n"
     ]
    },
    {
     "name": "stderr",
     "output_type": "stream",
     "text": [
      "Training:  30%|███       | 30/100 [03:12<07:25,  6.37s/epoch]"
     ]
    },
    {
     "name": "stdout",
     "output_type": "stream",
     "text": [
      "Epoch 30/100 - Train Loss: 0.0780, Val Loss: 0.0832\n"
     ]
    },
    {
     "name": "stderr",
     "output_type": "stream",
     "text": [
      "Training:  31%|███       | 31/100 [03:18<07:19,  6.36s/epoch]"
     ]
    },
    {
     "name": "stdout",
     "output_type": "stream",
     "text": [
      "Epoch 31/100 - Train Loss: 0.0779, Val Loss: 0.0842\n"
     ]
    },
    {
     "name": "stderr",
     "output_type": "stream",
     "text": [
      "Training:  32%|███▏      | 32/100 [03:24<07:12,  6.37s/epoch]"
     ]
    },
    {
     "name": "stdout",
     "output_type": "stream",
     "text": [
      "Epoch 32/100 - Train Loss: 0.0773, Val Loss: 0.0822\n"
     ]
    },
    {
     "name": "stderr",
     "output_type": "stream",
     "text": [
      "Training:  33%|███▎      | 33/100 [03:31<07:07,  6.37s/epoch]"
     ]
    },
    {
     "name": "stdout",
     "output_type": "stream",
     "text": [
      "Epoch 33/100 - Train Loss: 0.0769, Val Loss: 0.0831\n"
     ]
    },
    {
     "name": "stderr",
     "output_type": "stream",
     "text": [
      "Training:  34%|███▍      | 34/100 [03:37<07:00,  6.37s/epoch]"
     ]
    },
    {
     "name": "stdout",
     "output_type": "stream",
     "text": [
      "Epoch 34/100 - Train Loss: 0.0766, Val Loss: 0.0827\n"
     ]
    },
    {
     "name": "stderr",
     "output_type": "stream",
     "text": [
      "Training:  35%|███▌      | 35/100 [03:44<06:54,  6.37s/epoch]"
     ]
    },
    {
     "name": "stdout",
     "output_type": "stream",
     "text": [
      "Epoch 35/100 - Train Loss: 0.0765, Val Loss: 0.0822\n"
     ]
    },
    {
     "name": "stderr",
     "output_type": "stream",
     "text": [
      "Training:  36%|███▌      | 36/100 [03:50<06:47,  6.37s/epoch]"
     ]
    },
    {
     "name": "stdout",
     "output_type": "stream",
     "text": [
      "Epoch 36/100 - Train Loss: 0.0761, Val Loss: 0.0826\n"
     ]
    },
    {
     "name": "stderr",
     "output_type": "stream",
     "text": [
      "Training:  37%|███▋      | 37/100 [03:56<06:42,  6.38s/epoch]"
     ]
    },
    {
     "name": "stdout",
     "output_type": "stream",
     "text": [
      "Epoch 37/100 - Train Loss: 0.0758, Val Loss: 0.0820\n"
     ]
    },
    {
     "name": "stderr",
     "output_type": "stream",
     "text": [
      "Training:  38%|███▊      | 38/100 [04:03<06:35,  6.38s/epoch]"
     ]
    },
    {
     "name": "stdout",
     "output_type": "stream",
     "text": [
      "Epoch 38/100 - Train Loss: 0.0759, Val Loss: 0.0843\n"
     ]
    },
    {
     "name": "stderr",
     "output_type": "stream",
     "text": [
      "Training:  39%|███▉      | 39/100 [04:09<06:30,  6.40s/epoch]"
     ]
    },
    {
     "name": "stdout",
     "output_type": "stream",
     "text": [
      "Epoch 39/100 - Train Loss: 0.0755, Val Loss: 0.0810\n"
     ]
    },
    {
     "name": "stderr",
     "output_type": "stream",
     "text": [
      "Training:  40%|████      | 40/100 [04:15<06:23,  6.39s/epoch]"
     ]
    },
    {
     "name": "stdout",
     "output_type": "stream",
     "text": [
      "Epoch 40/100 - Train Loss: 0.0752, Val Loss: 0.0814\n"
     ]
    },
    {
     "name": "stderr",
     "output_type": "stream",
     "text": [
      "Training:  41%|████      | 41/100 [04:22<06:16,  6.38s/epoch]"
     ]
    },
    {
     "name": "stdout",
     "output_type": "stream",
     "text": [
      "Epoch 41/100 - Train Loss: 0.0750, Val Loss: 0.0805\n"
     ]
    },
    {
     "name": "stderr",
     "output_type": "stream",
     "text": [
      "Training:  42%|████▏     | 42/100 [04:28<06:09,  6.37s/epoch]"
     ]
    },
    {
     "name": "stdout",
     "output_type": "stream",
     "text": [
      "Epoch 42/100 - Train Loss: 0.0749, Val Loss: 0.0819\n"
     ]
    },
    {
     "name": "stderr",
     "output_type": "stream",
     "text": [
      "Training:  43%|████▎     | 43/100 [04:35<06:03,  6.37s/epoch]"
     ]
    },
    {
     "name": "stdout",
     "output_type": "stream",
     "text": [
      "Epoch 43/100 - Train Loss: 0.0745, Val Loss: 0.0808\n"
     ]
    },
    {
     "name": "stderr",
     "output_type": "stream",
     "text": [
      "Training:  44%|████▍     | 44/100 [04:41<05:58,  6.40s/epoch]"
     ]
    },
    {
     "name": "stdout",
     "output_type": "stream",
     "text": [
      "Epoch 44/100 - Train Loss: 0.0744, Val Loss: 0.0803\n"
     ]
    },
    {
     "name": "stderr",
     "output_type": "stream",
     "text": [
      "Training:  45%|████▌     | 45/100 [04:47<05:51,  6.40s/epoch]"
     ]
    },
    {
     "name": "stdout",
     "output_type": "stream",
     "text": [
      "Epoch 45/100 - Train Loss: 0.0740, Val Loss: 0.0806\n"
     ]
    },
    {
     "name": "stderr",
     "output_type": "stream",
     "text": [
      "Training:  46%|████▌     | 46/100 [04:54<05:45,  6.39s/epoch]"
     ]
    },
    {
     "name": "stdout",
     "output_type": "stream",
     "text": [
      "Epoch 46/100 - Train Loss: 0.0739, Val Loss: 0.0878\n"
     ]
    },
    {
     "name": "stderr",
     "output_type": "stream",
     "text": [
      "Training:  47%|████▋     | 47/100 [05:00<05:41,  6.45s/epoch]"
     ]
    },
    {
     "name": "stdout",
     "output_type": "stream",
     "text": [
      "Epoch 47/100 - Train Loss: 0.0739, Val Loss: 0.0837\n"
     ]
    },
    {
     "name": "stderr",
     "output_type": "stream",
     "text": [
      "Training:  48%|████▊     | 48/100 [05:07<05:37,  6.48s/epoch]"
     ]
    },
    {
     "name": "stdout",
     "output_type": "stream",
     "text": [
      "Epoch 48/100 - Train Loss: 0.0736, Val Loss: 0.0840\n"
     ]
    },
    {
     "name": "stderr",
     "output_type": "stream",
     "text": [
      "Training:  49%|████▉     | 49/100 [05:13<05:29,  6.46s/epoch]"
     ]
    },
    {
     "name": "stdout",
     "output_type": "stream",
     "text": [
      "Epoch 49/100 - Train Loss: 0.0734, Val Loss: 0.0858\n"
     ]
    },
    {
     "name": "stderr",
     "output_type": "stream",
     "text": [
      "Training:  50%|█████     | 50/100 [05:20<05:22,  6.44s/epoch]"
     ]
    },
    {
     "name": "stdout",
     "output_type": "stream",
     "text": [
      "Epoch 50/100 - Train Loss: 0.0733, Val Loss: 0.0798\n"
     ]
    },
    {
     "name": "stderr",
     "output_type": "stream",
     "text": [
      "Training:  51%|█████     | 51/100 [05:26<05:15,  6.44s/epoch]"
     ]
    },
    {
     "name": "stdout",
     "output_type": "stream",
     "text": [
      "Epoch 51/100 - Train Loss: 0.0732, Val Loss: 0.0804\n"
     ]
    },
    {
     "name": "stderr",
     "output_type": "stream",
     "text": [
      "Training:  52%|█████▏    | 52/100 [05:33<05:09,  6.44s/epoch]"
     ]
    },
    {
     "name": "stdout",
     "output_type": "stream",
     "text": [
      "Epoch 52/100 - Train Loss: 0.0730, Val Loss: 0.0796\n"
     ]
    },
    {
     "name": "stderr",
     "output_type": "stream",
     "text": [
      "Training:  53%|█████▎    | 53/100 [05:39<05:03,  6.46s/epoch]"
     ]
    },
    {
     "name": "stdout",
     "output_type": "stream",
     "text": [
      "Epoch 53/100 - Train Loss: 0.0728, Val Loss: 0.0780\n"
     ]
    },
    {
     "name": "stderr",
     "output_type": "stream",
     "text": [
      "Training:  54%|█████▍    | 54/100 [05:46<04:56,  6.45s/epoch]"
     ]
    },
    {
     "name": "stdout",
     "output_type": "stream",
     "text": [
      "Epoch 54/100 - Train Loss: 0.0728, Val Loss: 0.0780\n"
     ]
    },
    {
     "name": "stderr",
     "output_type": "stream",
     "text": [
      "Training:  55%|█████▌    | 55/100 [05:52<04:50,  6.45s/epoch]"
     ]
    },
    {
     "name": "stdout",
     "output_type": "stream",
     "text": [
      "Epoch 55/100 - Train Loss: 0.0725, Val Loss: 0.0789\n"
     ]
    },
    {
     "name": "stderr",
     "output_type": "stream",
     "text": [
      "Training:  56%|█████▌    | 56/100 [05:58<04:44,  6.46s/epoch]"
     ]
    },
    {
     "name": "stdout",
     "output_type": "stream",
     "text": [
      "Epoch 56/100 - Train Loss: 0.0724, Val Loss: 0.0783\n"
     ]
    },
    {
     "name": "stderr",
     "output_type": "stream",
     "text": [
      "Training:  57%|█████▋    | 57/100 [06:05<04:37,  6.46s/epoch]"
     ]
    },
    {
     "name": "stdout",
     "output_type": "stream",
     "text": [
      "Epoch 57/100 - Train Loss: 0.0722, Val Loss: 0.0788\n"
     ]
    },
    {
     "name": "stderr",
     "output_type": "stream",
     "text": [
      "Training:  58%|█████▊    | 58/100 [06:11<04:30,  6.45s/epoch]"
     ]
    },
    {
     "name": "stdout",
     "output_type": "stream",
     "text": [
      "Epoch 58/100 - Train Loss: 0.0721, Val Loss: 0.0766\n"
     ]
    },
    {
     "name": "stderr",
     "output_type": "stream",
     "text": [
      "Training:  59%|█████▉    | 59/100 [06:18<04:24,  6.45s/epoch]"
     ]
    },
    {
     "name": "stdout",
     "output_type": "stream",
     "text": [
      "Epoch 59/100 - Train Loss: 0.0719, Val Loss: 0.0772\n"
     ]
    },
    {
     "name": "stderr",
     "output_type": "stream",
     "text": [
      "Training:  60%|██████    | 60/100 [06:24<04:17,  6.44s/epoch]"
     ]
    },
    {
     "name": "stdout",
     "output_type": "stream",
     "text": [
      "Epoch 60/100 - Train Loss: 0.0719, Val Loss: 0.0774\n"
     ]
    },
    {
     "name": "stderr",
     "output_type": "stream",
     "text": [
      "Training:  61%|██████    | 61/100 [06:31<04:11,  6.44s/epoch]"
     ]
    },
    {
     "name": "stdout",
     "output_type": "stream",
     "text": [
      "Epoch 61/100 - Train Loss: 0.0718, Val Loss: 0.0775\n"
     ]
    },
    {
     "name": "stderr",
     "output_type": "stream",
     "text": [
      "Training:  62%|██████▏   | 62/100 [06:40<04:33,  7.20s/epoch]"
     ]
    },
    {
     "name": "stdout",
     "output_type": "stream",
     "text": [
      "Epoch 62/100 - Train Loss: 0.0717, Val Loss: 0.0762\n"
     ]
    },
    {
     "name": "stderr",
     "output_type": "stream",
     "text": [
      "Training:  63%|██████▎   | 63/100 [06:47<04:30,  7.30s/epoch]"
     ]
    },
    {
     "name": "stdout",
     "output_type": "stream",
     "text": [
      "Epoch 63/100 - Train Loss: 0.0717, Val Loss: 0.0767\n"
     ]
    },
    {
     "name": "stderr",
     "output_type": "stream",
     "text": [
      "Training:  64%|██████▍   | 64/100 [06:58<04:56,  8.22s/epoch]"
     ]
    },
    {
     "name": "stdout",
     "output_type": "stream",
     "text": [
      "Epoch 64/100 - Train Loss: 0.0719, Val Loss: 0.0790\n"
     ]
    },
    {
     "name": "stderr",
     "output_type": "stream",
     "text": [
      "Training:  65%|██████▌   | 65/100 [07:04<04:32,  7.77s/epoch]"
     ]
    },
    {
     "name": "stdout",
     "output_type": "stream",
     "text": [
      "Epoch 65/100 - Train Loss: 0.0714, Val Loss: 0.0798\n"
     ]
    },
    {
     "name": "stderr",
     "output_type": "stream",
     "text": [
      "Training:  66%|██████▌   | 66/100 [07:11<04:12,  7.43s/epoch]"
     ]
    },
    {
     "name": "stdout",
     "output_type": "stream",
     "text": [
      "Epoch 66/100 - Train Loss: 0.0714, Val Loss: 0.0773\n"
     ]
    },
    {
     "name": "stderr",
     "output_type": "stream",
     "text": [
      "Training:  67%|██████▋   | 67/100 [07:17<03:56,  7.16s/epoch]"
     ]
    },
    {
     "name": "stdout",
     "output_type": "stream",
     "text": [
      "Epoch 67/100 - Train Loss: 0.0714, Val Loss: 0.0795\n"
     ]
    },
    {
     "name": "stderr",
     "output_type": "stream",
     "text": [
      "Training:  68%|██████▊   | 68/100 [07:24<03:43,  6.98s/epoch]"
     ]
    },
    {
     "name": "stdout",
     "output_type": "stream",
     "text": [
      "Epoch 68/100 - Train Loss: 0.0714, Val Loss: 0.0785\n"
     ]
    },
    {
     "name": "stderr",
     "output_type": "stream",
     "text": [
      "Training:  69%|██████▉   | 69/100 [07:31<03:32,  6.84s/epoch]"
     ]
    },
    {
     "name": "stdout",
     "output_type": "stream",
     "text": [
      "Epoch 69/100 - Train Loss: 0.0712, Val Loss: 0.0790\n"
     ]
    },
    {
     "name": "stderr",
     "output_type": "stream",
     "text": [
      "Training:  70%|███████   | 70/100 [07:37<03:21,  6.73s/epoch]"
     ]
    },
    {
     "name": "stdout",
     "output_type": "stream",
     "text": [
      "Epoch 70/100 - Train Loss: 0.0711, Val Loss: 0.0786\n"
     ]
    },
    {
     "name": "stderr",
     "output_type": "stream",
     "text": [
      "Training:  71%|███████   | 71/100 [07:43<03:13,  6.66s/epoch]"
     ]
    },
    {
     "name": "stdout",
     "output_type": "stream",
     "text": [
      "Epoch 71/100 - Train Loss: 0.0712, Val Loss: 0.0775\n"
     ]
    },
    {
     "name": "stderr",
     "output_type": "stream",
     "text": [
      "Training:  72%|███████▏  | 72/100 [07:50<03:04,  6.60s/epoch]"
     ]
    },
    {
     "name": "stdout",
     "output_type": "stream",
     "text": [
      "Epoch 72/100 - Train Loss: 0.0711, Val Loss: 0.0773\n"
     ]
    },
    {
     "name": "stderr",
     "output_type": "stream",
     "text": [
      "Training:  73%|███████▎  | 73/100 [07:56<02:56,  6.55s/epoch]"
     ]
    },
    {
     "name": "stdout",
     "output_type": "stream",
     "text": [
      "Epoch 73/100 - Train Loss: 0.0710, Val Loss: 0.0782\n"
     ]
    },
    {
     "name": "stderr",
     "output_type": "stream",
     "text": [
      "Training:  74%|███████▍  | 74/100 [08:03<02:49,  6.52s/epoch]"
     ]
    },
    {
     "name": "stdout",
     "output_type": "stream",
     "text": [
      "Epoch 74/100 - Train Loss: 0.0709, Val Loss: 0.0797\n"
     ]
    },
    {
     "name": "stderr",
     "output_type": "stream",
     "text": [
      "Training:  75%|███████▌  | 75/100 [08:09<02:42,  6.51s/epoch]"
     ]
    },
    {
     "name": "stdout",
     "output_type": "stream",
     "text": [
      "Epoch 75/100 - Train Loss: 0.0709, Val Loss: 0.0816\n"
     ]
    },
    {
     "name": "stderr",
     "output_type": "stream",
     "text": [
      "Training:  76%|███████▌  | 76/100 [08:16<02:36,  6.51s/epoch]"
     ]
    },
    {
     "name": "stdout",
     "output_type": "stream",
     "text": [
      "Epoch 76/100 - Train Loss: 0.0708, Val Loss: 0.0785\n"
     ]
    },
    {
     "name": "stderr",
     "output_type": "stream",
     "text": [
      "Training:  77%|███████▋  | 77/100 [08:22<02:29,  6.50s/epoch]"
     ]
    },
    {
     "name": "stdout",
     "output_type": "stream",
     "text": [
      "Epoch 77/100 - Train Loss: 0.0707, Val Loss: 0.0768\n"
     ]
    },
    {
     "name": "stderr",
     "output_type": "stream",
     "text": [
      "Training:  78%|███████▊  | 78/100 [08:29<02:22,  6.49s/epoch]"
     ]
    },
    {
     "name": "stdout",
     "output_type": "stream",
     "text": [
      "Epoch 78/100 - Train Loss: 0.0707, Val Loss: 0.0762\n"
     ]
    },
    {
     "name": "stderr",
     "output_type": "stream",
     "text": [
      "Training:  79%|███████▉  | 79/100 [08:35<02:15,  6.48s/epoch]"
     ]
    },
    {
     "name": "stdout",
     "output_type": "stream",
     "text": [
      "Epoch 79/100 - Train Loss: 0.0707, Val Loss: 0.0754\n"
     ]
    },
    {
     "name": "stderr",
     "output_type": "stream",
     "text": [
      "Training:  80%|████████  | 80/100 [08:42<02:09,  6.48s/epoch]"
     ]
    },
    {
     "name": "stdout",
     "output_type": "stream",
     "text": [
      "Epoch 80/100 - Train Loss: 0.0704, Val Loss: 0.0778\n"
     ]
    },
    {
     "name": "stderr",
     "output_type": "stream",
     "text": [
      "Training:  81%|████████  | 81/100 [08:48<02:02,  6.47s/epoch]"
     ]
    },
    {
     "name": "stdout",
     "output_type": "stream",
     "text": [
      "Epoch 81/100 - Train Loss: 0.0706, Val Loss: 0.0807\n"
     ]
    },
    {
     "name": "stderr",
     "output_type": "stream",
     "text": [
      "Training:  82%|████████▏ | 82/100 [08:55<01:56,  6.47s/epoch]"
     ]
    },
    {
     "name": "stdout",
     "output_type": "stream",
     "text": [
      "Epoch 82/100 - Train Loss: 0.0704, Val Loss: 0.0862\n"
     ]
    },
    {
     "name": "stderr",
     "output_type": "stream",
     "text": [
      "Training:  83%|████████▎ | 83/100 [09:01<01:49,  6.46s/epoch]"
     ]
    },
    {
     "name": "stdout",
     "output_type": "stream",
     "text": [
      "Epoch 83/100 - Train Loss: 0.0706, Val Loss: 0.0774\n"
     ]
    },
    {
     "name": "stderr",
     "output_type": "stream",
     "text": [
      "Training:  84%|████████▍ | 84/100 [09:07<01:43,  6.46s/epoch]"
     ]
    },
    {
     "name": "stdout",
     "output_type": "stream",
     "text": [
      "Epoch 84/100 - Train Loss: 0.0703, Val Loss: 0.0813\n"
     ]
    },
    {
     "name": "stderr",
     "output_type": "stream",
     "text": [
      "Training:  85%|████████▌ | 85/100 [09:14<01:36,  6.45s/epoch]"
     ]
    },
    {
     "name": "stdout",
     "output_type": "stream",
     "text": [
      "Epoch 85/100 - Train Loss: 0.0705, Val Loss: 0.0792\n"
     ]
    },
    {
     "name": "stderr",
     "output_type": "stream",
     "text": [
      "Training:  86%|████████▌ | 86/100 [09:20<01:30,  6.48s/epoch]"
     ]
    },
    {
     "name": "stdout",
     "output_type": "stream",
     "text": [
      "Epoch 86/100 - Train Loss: 0.0703, Val Loss: 0.0777\n"
     ]
    },
    {
     "name": "stderr",
     "output_type": "stream",
     "text": [
      "Training:  87%|████████▋ | 87/100 [09:27<01:24,  6.48s/epoch]"
     ]
    },
    {
     "name": "stdout",
     "output_type": "stream",
     "text": [
      "Epoch 87/100 - Train Loss: 0.0702, Val Loss: 0.0821\n"
     ]
    },
    {
     "name": "stderr",
     "output_type": "stream",
     "text": [
      "Training:  88%|████████▊ | 88/100 [09:34<01:17,  6.50s/epoch]"
     ]
    },
    {
     "name": "stdout",
     "output_type": "stream",
     "text": [
      "Epoch 88/100 - Train Loss: 0.0701, Val Loss: 0.0749\n"
     ]
    },
    {
     "name": "stderr",
     "output_type": "stream",
     "text": [
      "Training:  89%|████████▉ | 89/100 [09:40<01:11,  6.49s/epoch]"
     ]
    },
    {
     "name": "stdout",
     "output_type": "stream",
     "text": [
      "Epoch 89/100 - Train Loss: 0.0699, Val Loss: 0.0776\n"
     ]
    },
    {
     "name": "stderr",
     "output_type": "stream",
     "text": [
      "Training:  90%|█████████ | 90/100 [09:46<01:04,  6.47s/epoch]"
     ]
    },
    {
     "name": "stdout",
     "output_type": "stream",
     "text": [
      "Epoch 90/100 - Train Loss: 0.0700, Val Loss: 0.0780\n"
     ]
    },
    {
     "name": "stderr",
     "output_type": "stream",
     "text": [
      "Training:  91%|█████████ | 91/100 [09:53<00:58,  6.47s/epoch]"
     ]
    },
    {
     "name": "stdout",
     "output_type": "stream",
     "text": [
      "Epoch 91/100 - Train Loss: 0.0698, Val Loss: 0.0790\n"
     ]
    },
    {
     "name": "stderr",
     "output_type": "stream",
     "text": [
      "Training:  92%|█████████▏| 92/100 [09:59<00:51,  6.45s/epoch]"
     ]
    },
    {
     "name": "stdout",
     "output_type": "stream",
     "text": [
      "Epoch 92/100 - Train Loss: 0.0699, Val Loss: 0.0753\n"
     ]
    },
    {
     "name": "stderr",
     "output_type": "stream",
     "text": [
      "Training:  93%|█████████▎| 93/100 [10:06<00:45,  6.46s/epoch]"
     ]
    },
    {
     "name": "stdout",
     "output_type": "stream",
     "text": [
      "Epoch 93/100 - Train Loss: 0.0699, Val Loss: 0.0783\n"
     ]
    },
    {
     "name": "stderr",
     "output_type": "stream",
     "text": [
      "Training:  94%|█████████▍| 94/100 [10:12<00:38,  6.45s/epoch]"
     ]
    },
    {
     "name": "stdout",
     "output_type": "stream",
     "text": [
      "Epoch 94/100 - Train Loss: 0.0701, Val Loss: 0.0781\n"
     ]
    },
    {
     "name": "stderr",
     "output_type": "stream",
     "text": [
      "Training:  95%|█████████▌| 95/100 [10:19<00:32,  6.45s/epoch]"
     ]
    },
    {
     "name": "stdout",
     "output_type": "stream",
     "text": [
      "Epoch 95/100 - Train Loss: 0.0698, Val Loss: 0.0819\n"
     ]
    },
    {
     "name": "stderr",
     "output_type": "stream",
     "text": [
      "Training:  96%|█████████▌| 96/100 [10:25<00:25,  6.46s/epoch]"
     ]
    },
    {
     "name": "stdout",
     "output_type": "stream",
     "text": [
      "Epoch 96/100 - Train Loss: 0.0697, Val Loss: 0.0797\n"
     ]
    },
    {
     "name": "stderr",
     "output_type": "stream",
     "text": [
      "Training:  97%|█████████▋| 97/100 [10:32<00:19,  6.45s/epoch]"
     ]
    },
    {
     "name": "stdout",
     "output_type": "stream",
     "text": [
      "Epoch 97/100 - Train Loss: 0.0699, Val Loss: 0.0887\n"
     ]
    },
    {
     "name": "stderr",
     "output_type": "stream",
     "text": [
      "Training:  98%|█████████▊| 98/100 [10:38<00:12,  6.45s/epoch]"
     ]
    },
    {
     "name": "stdout",
     "output_type": "stream",
     "text": [
      "Epoch 98/100 - Train Loss: 0.0699, Val Loss: 0.0843\n"
     ]
    },
    {
     "name": "stderr",
     "output_type": "stream",
     "text": [
      "Training:  99%|█████████▉| 99/100 [10:44<00:06,  6.45s/epoch]"
     ]
    },
    {
     "name": "stdout",
     "output_type": "stream",
     "text": [
      "Epoch 99/100 - Train Loss: 0.0704, Val Loss: 0.0863\n"
     ]
    },
    {
     "name": "stderr",
     "output_type": "stream",
     "text": [
      "Training: 100%|██████████| 100/100 [10:51<00:00,  6.51s/epoch]"
     ]
    },
    {
     "name": "stdout",
     "output_type": "stream",
     "text": [
      "Epoch 100/100 - Train Loss: 0.0703, Val Loss: 0.0784\n"
     ]
    },
    {
     "name": "stderr",
     "output_type": "stream",
     "text": [
      "\n"
     ]
    }
   ],
   "execution_count": 10
  },
  {
   "cell_type": "code",
   "execution_count": 11,
   "outputs": [
    {
     "data": {
      "text/plain": "<Figure size 1000x500 with 1 Axes>",
      "image/png": "[encoded data removed]"
     },
     "metadata": {},
     "output_type": "display_data"
    }
   ],
   "source": [
    "import matplotlib.pyplot as plt\n",
    "plt.figure(figsize=(10, 5))\n",
    "plt.plot(range(1, len(train_losses) + 1), train_losses, label='Train Loss')\n",
    "plt.plot(range(1, len(val_losses) + 1), val_losses, label='Validation Loss')\n",
    "plt.xlabel('Epochs')\n",
    "plt.ylabel('Loss')\n",
    "plt.title('Training vs Validation Loss')\n",
    "plt.legend()\n",
    "plt.grid()\n",
    "plt.show()\n"
   ],
   "metadata": {
    "collapsed": false,
    "ExecuteTime": {
     "end_time": "2025-01-25T15:22:03.728913Z",
     "start_time": "2025-01-25T15:22:03.389053Z"
    }
   },
   "id": "474948b20eb5b13d"
  },
  {
   "cell_type": "markdown",
   "id": "102e1c6ac121dd4d",
   "metadata": {},
   "source": [
    "### Now evaluate it"
   ]
  },
  {
   "cell_type": "code",
   "id": "99333a55d05cfd4b",
   "metadata": {
    "ExecuteTime": {
     "end_time": "2025-01-25T15:22:10.247878Z",
     "start_time": "2025-01-25T15:22:10.199197Z"
    }
   },
   "source": [
    "model_file_path = 'graph_predictor_model.pth'\n",
    "prediction_model: MyPredictionModel = load_model(model_file_path)"
   ],
   "outputs": [],
   "execution_count": 12
  },
  {
   "cell_type": "markdown",
   "source": [
    "Again we evaluate on our metrics"
   ],
   "metadata": {
    "collapsed": false
   },
   "id": "ad7de0b6b0fc763"
  },
  {
   "cell_type": "code",
   "source": [
    "instances = [(graph.get_parts(), graph) for graph in test_graphs]\n",
    "evaluate_all_metrics(prediction_model, instances)"
   ],
   "metadata": {
    "collapsed": false,
    "jupyter": {
     "is_executing": true
    },
    "ExecuteTime": {
     "end_time": "2025-01-25T15:44:52.941634Z",
     "start_time": "2025-01-25T15:22:12.714403Z"
    }
   },
   "id": "5f529b03317fdc01",
   "outputs": [
    {
     "name": "stderr",
     "output_type": "stream",
     "text": [
      "Processing graphs:   7%|▋         | 35/500 [00:01<00:14, 32.15graph/s, failed=0, P=0.8616, R=1.0000, F1=0.9204, Hamming=1.4324, Jaccard=0.8616, Edit Dist=1.4324, Acc=95.98%]"
     ]
    },
    {
     "name": "stdout",
     "output_type": "stream",
     "text": [
      "oups\n"
     ]
    },
    {
     "name": "stderr",
     "output_type": "stream",
     "text": [
      "Processing graphs:  58%|█████▊    | 291/500 [07:19<00:30,  6.89graph/s, failed=0, P=0.8591, R=0.9994, F1=0.9163, Hamming=1.7500, Jaccard=0.8588, Edit Dist=1.7432, Acc=95.66%] Exception ignored in: <generator object tqdm.__iter__ at 0x316928f20>\n",
      "Traceback (most recent call last):\n",
      "  File \"/Users/anaconda3/envs/ai-project/lib/python3.8/site-packages/tqdm/std.py\", line 1196, in __iter__\n",
      "    self.close()\n",
      "  File \"/Users/anaconda3/envs/ai-project/lib/python3.8/site-packages/tqdm/std.py\", line 1290, in close\n",
      "    fp_write('')\n",
      "  File \"/Users/anaconda3/envs/ai-project/lib/python3.8/site-packages/tqdm/std.py\", line 1287, in fp_write\n",
      "    self.fp.write(str(s))\n",
      "  File \"/Users/anaconda3/envs/ai-project/lib/python3.8/site-packages/tqdm/utils.py\", line 196, in inner\n",
      "    return func(*args, **kwargs)\n",
      "  File \"/Users/anaconda3/envs/ai-project/lib/python3.8/site-packages/ipykernel/iostream.py\", line 684, in write\n",
      "    self._buffers[frozenset(parent.items())].write(string)\n",
      "KeyboardInterrupt: \n",
      "Exception ignored in: <bound method IPythonKernel._clean_thread_parent_frames of <ipykernel.ipkernel.IPythonKernel object at 0x1204875b0>>\n",
      "Traceback (most recent call last):\n",
      "  File \"/Users/anaconda3/envs/ai-project/lib/python3.8/site-packages/ipykernel/ipkernel.py\", line 775, in _clean_thread_parent_frames\n",
      "    def _clean_thread_parent_frames(\n",
      "KeyboardInterrupt: \n"
     ]
    },
    {
     "ename": "KeyboardInterrupt",
     "evalue": "",
     "output_type": "error",
     "traceback": [
      "\u001B[0;31m---------------------------------------------------------------------------\u001B[0m",
      "\u001B[0;31mKeyboardInterrupt\u001B[0m                         Traceback (most recent call last)",
      "Cell \u001B[0;32mIn[13], line 2\u001B[0m\n\u001B[1;32m      1\u001B[0m instances \u001B[38;5;241m=\u001B[39m [(graph\u001B[38;5;241m.\u001B[39mget_parts(), graph) \u001B[38;5;28;01mfor\u001B[39;00m graph \u001B[38;5;129;01min\u001B[39;00m test_graphs[:\u001B[38;5;241m500\u001B[39m]]\n\u001B[0;32m----> 2\u001B[0m \u001B[43mevaluate_all_metrics\u001B[49m\u001B[43m(\u001B[49m\u001B[43mprediction_model\u001B[49m\u001B[43m,\u001B[49m\u001B[43m \u001B[49m\u001B[43minstances\u001B[49m\u001B[43m)\u001B[49m\n",
      "File \u001B[0;32m~/PycharmProjects/ai-project/evaluation.py:151\u001B[0m, in \u001B[0;36mevaluate_all_metrics\u001B[0;34m(model, data_set)\u001B[0m\n\u001B[1;32m    148\u001B[0m jaccard_similarities\u001B[38;5;241m.\u001B[39mappend(edge_jaccard_similarity(predicted_graph, target_graph))\n\u001B[1;32m    150\u001B[0m \u001B[38;5;66;03m# Compute Graph edit distance\u001B[39;00m\n\u001B[0;32m--> 151\u001B[0m edit_distances\u001B[38;5;241m.\u001B[39mappend(\u001B[43mgraph_edit_distance\u001B[49m\u001B[43m(\u001B[49m\u001B[43mpredicted_graph\u001B[49m\u001B[43m,\u001B[49m\u001B[43m \u001B[49m\u001B[43mtarget_graph\u001B[49m\u001B[43m)\u001B[49m)\n\u001B[1;32m    153\u001B[0m \u001B[38;5;66;03m# Edge accuracy\u001B[39;00m\n\u001B[1;32m    154\u001B[0m edge_accuracies\u001B[38;5;241m.\u001B[39mappend(edge_accuracy(predicted_graph, target_graph) \u001B[38;5;241m/\u001B[39m (\u001B[38;5;28mlen\u001B[39m(input_parts) \u001B[38;5;241m*\u001B[39m \u001B[38;5;28mlen\u001B[39m(input_parts)))\n",
      "File \u001B[0;32m~/PycharmProjects/ai-project/evaluation.py:107\u001B[0m, in \u001B[0;36mgraph_edit_distance\u001B[0;34m(predicted_graph, target_graph)\u001B[0m\n\u001B[1;32m    105\u001B[0m \u001B[38;5;28;01mfor\u001B[39;00m perm \u001B[38;5;129;01min\u001B[39;00m perms:\n\u001B[1;32m    106\u001B[0m     predicted_nx_graph \u001B[38;5;241m=\u001B[39m nx\u001B[38;5;241m.\u001B[39mGraph(predicted_graph\u001B[38;5;241m.\u001B[39mget_adjacency_matrix(perm))\n\u001B[0;32m--> 107\u001B[0m     edit \u001B[38;5;241m=\u001B[39m \u001B[43mnx\u001B[49m\u001B[38;5;241;43m.\u001B[39;49m\u001B[43mgraph_edit_distance\u001B[49m\u001B[43m(\u001B[49m\u001B[43mpredicted_nx_graph\u001B[49m\u001B[43m,\u001B[49m\u001B[43m \u001B[49m\u001B[43mtarget_nx_graph\u001B[49m\u001B[43m)\u001B[49m\n\u001B[1;32m    108\u001B[0m     best_edit \u001B[38;5;241m=\u001B[39m \u001B[38;5;28mmin\u001B[39m(best_edit, edit)\n\u001B[1;32m    110\u001B[0m \u001B[38;5;28;01mreturn\u001B[39;00m best_edit\n",
      "File \u001B[0;32m/Users/anaconda3/envs/ai-project/lib/python3.8/site-packages/networkx/algorithms/similarity.py:189\u001B[0m, in \u001B[0;36mgraph_edit_distance\u001B[0;34m(G1, G2, node_match, edge_match, node_subst_cost, node_del_cost, node_ins_cost, edge_subst_cost, edge_del_cost, edge_ins_cost, roots, upper_bound, timeout)\u001B[0m\n\u001B[1;32m     54\u001B[0m \u001B[38;5;250m\u001B[39m\u001B[38;5;124;03m\"\"\"Returns GED (graph edit distance) between graphs G1 and G2.\u001B[39;00m\n\u001B[1;32m     55\u001B[0m \n\u001B[1;32m     56\u001B[0m \u001B[38;5;124;03mGraph edit distance is a graph similarity measure analogous to\u001B[39;00m\n\u001B[0;32m   (...)\u001B[0m\n\u001B[1;32m    186\u001B[0m \n\u001B[1;32m    187\u001B[0m \u001B[38;5;124;03m\"\"\"\u001B[39;00m\n\u001B[1;32m    188\u001B[0m bestcost \u001B[38;5;241m=\u001B[39m \u001B[38;5;28;01mNone\u001B[39;00m\n\u001B[0;32m--> 189\u001B[0m \u001B[38;5;28;01mfor\u001B[39;00m _, _, cost \u001B[38;5;129;01min\u001B[39;00m optimize_edit_paths(\n\u001B[1;32m    190\u001B[0m     G1,\n\u001B[1;32m    191\u001B[0m     G2,\n\u001B[1;32m    192\u001B[0m     node_match,\n\u001B[1;32m    193\u001B[0m     edge_match,\n\u001B[1;32m    194\u001B[0m     node_subst_cost,\n\u001B[1;32m    195\u001B[0m     node_del_cost,\n\u001B[1;32m    196\u001B[0m     node_ins_cost,\n\u001B[1;32m    197\u001B[0m     edge_subst_cost,\n\u001B[1;32m    198\u001B[0m     edge_del_cost,\n\u001B[1;32m    199\u001B[0m     edge_ins_cost,\n\u001B[1;32m    200\u001B[0m     upper_bound,\n\u001B[1;32m    201\u001B[0m     \u001B[38;5;28;01mTrue\u001B[39;00m,\n\u001B[1;32m    202\u001B[0m     roots,\n\u001B[1;32m    203\u001B[0m     timeout,\n\u001B[1;32m    204\u001B[0m ):\n\u001B[1;32m    205\u001B[0m     \u001B[38;5;66;03m# assert bestcost is None or cost < bestcost\u001B[39;00m\n\u001B[1;32m    206\u001B[0m     bestcost \u001B[38;5;241m=\u001B[39m cost\n\u001B[1;32m    207\u001B[0m \u001B[38;5;28;01mreturn\u001B[39;00m bestcost\n",
      "File \u001B[0;32m/Users/anaconda3/envs/ai-project/lib/python3.8/site-packages/networkx/algorithms/similarity.py:1187\u001B[0m, in \u001B[0;36moptimize_edit_paths\u001B[0;34m(G1, G2, node_match, edge_match, node_subst_cost, node_del_cost, node_ins_cost, edge_subst_cost, edge_del_cost, edge_ins_cost, upper_bound, strictly_decreasing, roots, timeout)\u001B[0m\n\u001B[1;32m   1183\u001B[0m \u001B[38;5;66;03m# Now go!\u001B[39;00m\n\u001B[1;32m   1185\u001B[0m done_uv \u001B[38;5;241m=\u001B[39m [] \u001B[38;5;28;01mif\u001B[39;00m roots \u001B[38;5;129;01mis\u001B[39;00m \u001B[38;5;28;01mNone\u001B[39;00m \u001B[38;5;28;01melse\u001B[39;00m [roots]\n\u001B[0;32m-> 1187\u001B[0m \u001B[38;5;28;01mfor\u001B[39;00m vertex_path, edge_path, cost \u001B[38;5;129;01min\u001B[39;00m get_edit_paths(\n\u001B[1;32m   1188\u001B[0m     done_uv, pending_u, pending_v, Cv, [], pending_g, pending_h, Ce, initial_cost\n\u001B[1;32m   1189\u001B[0m ):\n\u001B[1;32m   1190\u001B[0m     \u001B[38;5;66;03m# assert sorted(G1.nodes) == sorted(u for u, v in vertex_path if u is not None)\u001B[39;00m\n\u001B[1;32m   1191\u001B[0m     \u001B[38;5;66;03m# assert sorted(G2.nodes) == sorted(v for u, v in vertex_path if v is not None)\u001B[39;00m\n\u001B[1;32m   1192\u001B[0m     \u001B[38;5;66;03m# assert sorted(G1.edges) == sorted(g for g, h in edge_path if g is not None)\u001B[39;00m\n\u001B[1;32m   1193\u001B[0m     \u001B[38;5;66;03m# assert sorted(G2.edges) == sorted(h for g, h in edge_path if h is not None)\u001B[39;00m\n\u001B[1;32m   1194\u001B[0m     \u001B[38;5;66;03m# print(vertex_path, edge_path, cost, file = sys.stderr)\u001B[39;00m\n\u001B[1;32m   1195\u001B[0m     \u001B[38;5;66;03m# assert cost == maxcost_value\u001B[39;00m\n\u001B[1;32m   1196\u001B[0m     \u001B[38;5;28;01myield\u001B[39;00m \u001B[38;5;28mlist\u001B[39m(vertex_path), \u001B[38;5;28mlist\u001B[39m(edge_path), cost\n",
      "File \u001B[0;32m/Users/anaconda3/envs/ai-project/lib/python3.8/site-packages/networkx/algorithms/similarity.py:1023\u001B[0m, in \u001B[0;36moptimize_edit_paths.<locals>.get_edit_paths\u001B[0;34m(matched_uv, pending_u, pending_v, Cv, matched_gh, pending_g, pending_h, Ce, matched_cost)\u001B[0m\n\u001B[1;32m   1014\u001B[0m G \u001B[38;5;241m=\u001B[39m [\n\u001B[1;32m   1015\u001B[0m     (pending_g\u001B[38;5;241m.\u001B[39mpop(x) \u001B[38;5;28;01mif\u001B[39;00m x \u001B[38;5;241m<\u001B[39m \u001B[38;5;28mlen\u001B[39m(pending_g) \u001B[38;5;28;01melse\u001B[39;00m \u001B[38;5;28;01mNone\u001B[39;00m)\n\u001B[1;32m   1016\u001B[0m     \u001B[38;5;28;01mfor\u001B[39;00m x \u001B[38;5;129;01min\u001B[39;00m \u001B[38;5;28mreversed\u001B[39m(sortedx)\n\u001B[1;32m   1017\u001B[0m ]\n\u001B[1;32m   1018\u001B[0m H \u001B[38;5;241m=\u001B[39m [\n\u001B[1;32m   1019\u001B[0m     (pending_h\u001B[38;5;241m.\u001B[39mpop(y) \u001B[38;5;28;01mif\u001B[39;00m y \u001B[38;5;241m<\u001B[39m \u001B[38;5;28mlen\u001B[39m(pending_h) \u001B[38;5;28;01melse\u001B[39;00m \u001B[38;5;28;01mNone\u001B[39;00m)\n\u001B[1;32m   1020\u001B[0m     \u001B[38;5;28;01mfor\u001B[39;00m y \u001B[38;5;129;01min\u001B[39;00m \u001B[38;5;28mreversed\u001B[39m(sortedy)\n\u001B[1;32m   1021\u001B[0m ]\n\u001B[0;32m-> 1023\u001B[0m \u001B[38;5;28;01myield from\u001B[39;00m get_edit_paths(\n\u001B[1;32m   1024\u001B[0m     matched_uv,\n\u001B[1;32m   1025\u001B[0m     pending_u,\n\u001B[1;32m   1026\u001B[0m     pending_v,\n\u001B[1;32m   1027\u001B[0m     Cv_ij,\n\u001B[1;32m   1028\u001B[0m     matched_gh,\n\u001B[1;32m   1029\u001B[0m     pending_g,\n\u001B[1;32m   1030\u001B[0m     pending_h,\n\u001B[1;32m   1031\u001B[0m     Ce_xy,\n\u001B[1;32m   1032\u001B[0m     matched_cost \u001B[38;5;241m+\u001B[39m edit_cost,\n\u001B[1;32m   1033\u001B[0m )\n\u001B[1;32m   1035\u001B[0m \u001B[38;5;66;03m# backtrack\u001B[39;00m\n\u001B[1;32m   1036\u001B[0m \u001B[38;5;28;01mif\u001B[39;00m u \u001B[38;5;129;01mis\u001B[39;00m \u001B[38;5;129;01mnot\u001B[39;00m \u001B[38;5;28;01mNone\u001B[39;00m:\n",
      "File \u001B[0;32m/Users/anaconda3/envs/ai-project/lib/python3.8/site-packages/networkx/algorithms/similarity.py:1023\u001B[0m, in \u001B[0;36moptimize_edit_paths.<locals>.get_edit_paths\u001B[0;34m(matched_uv, pending_u, pending_v, Cv, matched_gh, pending_g, pending_h, Ce, matched_cost)\u001B[0m\n\u001B[1;32m   1014\u001B[0m G \u001B[38;5;241m=\u001B[39m [\n\u001B[1;32m   1015\u001B[0m     (pending_g\u001B[38;5;241m.\u001B[39mpop(x) \u001B[38;5;28;01mif\u001B[39;00m x \u001B[38;5;241m<\u001B[39m \u001B[38;5;28mlen\u001B[39m(pending_g) \u001B[38;5;28;01melse\u001B[39;00m \u001B[38;5;28;01mNone\u001B[39;00m)\n\u001B[1;32m   1016\u001B[0m     \u001B[38;5;28;01mfor\u001B[39;00m x \u001B[38;5;129;01min\u001B[39;00m \u001B[38;5;28mreversed\u001B[39m(sortedx)\n\u001B[1;32m   1017\u001B[0m ]\n\u001B[1;32m   1018\u001B[0m H \u001B[38;5;241m=\u001B[39m [\n\u001B[1;32m   1019\u001B[0m     (pending_h\u001B[38;5;241m.\u001B[39mpop(y) \u001B[38;5;28;01mif\u001B[39;00m y \u001B[38;5;241m<\u001B[39m \u001B[38;5;28mlen\u001B[39m(pending_h) \u001B[38;5;28;01melse\u001B[39;00m \u001B[38;5;28;01mNone\u001B[39;00m)\n\u001B[1;32m   1020\u001B[0m     \u001B[38;5;28;01mfor\u001B[39;00m y \u001B[38;5;129;01min\u001B[39;00m \u001B[38;5;28mreversed\u001B[39m(sortedy)\n\u001B[1;32m   1021\u001B[0m ]\n\u001B[0;32m-> 1023\u001B[0m \u001B[38;5;28;01myield from\u001B[39;00m get_edit_paths(\n\u001B[1;32m   1024\u001B[0m     matched_uv,\n\u001B[1;32m   1025\u001B[0m     pending_u,\n\u001B[1;32m   1026\u001B[0m     pending_v,\n\u001B[1;32m   1027\u001B[0m     Cv_ij,\n\u001B[1;32m   1028\u001B[0m     matched_gh,\n\u001B[1;32m   1029\u001B[0m     pending_g,\n\u001B[1;32m   1030\u001B[0m     pending_h,\n\u001B[1;32m   1031\u001B[0m     Ce_xy,\n\u001B[1;32m   1032\u001B[0m     matched_cost \u001B[38;5;241m+\u001B[39m edit_cost,\n\u001B[1;32m   1033\u001B[0m )\n\u001B[1;32m   1035\u001B[0m \u001B[38;5;66;03m# backtrack\u001B[39;00m\n\u001B[1;32m   1036\u001B[0m \u001B[38;5;28;01mif\u001B[39;00m u \u001B[38;5;129;01mis\u001B[39;00m \u001B[38;5;129;01mnot\u001B[39;00m \u001B[38;5;28;01mNone\u001B[39;00m:\n",
      "    \u001B[0;31m[... skipping similar frames: optimize_edit_paths.<locals>.get_edit_paths at line 1023 (4 times)]\u001B[0m\n",
      "File \u001B[0;32m/Users/anaconda3/envs/ai-project/lib/python3.8/site-packages/networkx/algorithms/similarity.py:1023\u001B[0m, in \u001B[0;36moptimize_edit_paths.<locals>.get_edit_paths\u001B[0;34m(matched_uv, pending_u, pending_v, Cv, matched_gh, pending_g, pending_h, Ce, matched_cost)\u001B[0m\n\u001B[1;32m   1014\u001B[0m G \u001B[38;5;241m=\u001B[39m [\n\u001B[1;32m   1015\u001B[0m     (pending_g\u001B[38;5;241m.\u001B[39mpop(x) \u001B[38;5;28;01mif\u001B[39;00m x \u001B[38;5;241m<\u001B[39m \u001B[38;5;28mlen\u001B[39m(pending_g) \u001B[38;5;28;01melse\u001B[39;00m \u001B[38;5;28;01mNone\u001B[39;00m)\n\u001B[1;32m   1016\u001B[0m     \u001B[38;5;28;01mfor\u001B[39;00m x \u001B[38;5;129;01min\u001B[39;00m \u001B[38;5;28mreversed\u001B[39m(sortedx)\n\u001B[1;32m   1017\u001B[0m ]\n\u001B[1;32m   1018\u001B[0m H \u001B[38;5;241m=\u001B[39m [\n\u001B[1;32m   1019\u001B[0m     (pending_h\u001B[38;5;241m.\u001B[39mpop(y) \u001B[38;5;28;01mif\u001B[39;00m y \u001B[38;5;241m<\u001B[39m \u001B[38;5;28mlen\u001B[39m(pending_h) \u001B[38;5;28;01melse\u001B[39;00m \u001B[38;5;28;01mNone\u001B[39;00m)\n\u001B[1;32m   1020\u001B[0m     \u001B[38;5;28;01mfor\u001B[39;00m y \u001B[38;5;129;01min\u001B[39;00m \u001B[38;5;28mreversed\u001B[39m(sortedy)\n\u001B[1;32m   1021\u001B[0m ]\n\u001B[0;32m-> 1023\u001B[0m \u001B[38;5;28;01myield from\u001B[39;00m get_edit_paths(\n\u001B[1;32m   1024\u001B[0m     matched_uv,\n\u001B[1;32m   1025\u001B[0m     pending_u,\n\u001B[1;32m   1026\u001B[0m     pending_v,\n\u001B[1;32m   1027\u001B[0m     Cv_ij,\n\u001B[1;32m   1028\u001B[0m     matched_gh,\n\u001B[1;32m   1029\u001B[0m     pending_g,\n\u001B[1;32m   1030\u001B[0m     pending_h,\n\u001B[1;32m   1031\u001B[0m     Ce_xy,\n\u001B[1;32m   1032\u001B[0m     matched_cost \u001B[38;5;241m+\u001B[39m edit_cost,\n\u001B[1;32m   1033\u001B[0m )\n\u001B[1;32m   1035\u001B[0m \u001B[38;5;66;03m# backtrack\u001B[39;00m\n\u001B[1;32m   1036\u001B[0m \u001B[38;5;28;01mif\u001B[39;00m u \u001B[38;5;129;01mis\u001B[39;00m \u001B[38;5;129;01mnot\u001B[39;00m \u001B[38;5;28;01mNone\u001B[39;00m:\n",
      "File \u001B[0;32m/Users/anaconda3/envs/ai-project/lib/python3.8/site-packages/networkx/algorithms/similarity.py:993\u001B[0m, in \u001B[0;36moptimize_edit_paths.<locals>.get_edit_paths\u001B[0;34m(matched_uv, pending_u, pending_v, Cv, matched_gh, pending_g, pending_h, Ce, matched_cost)\u001B[0m\n\u001B[1;32m    982\u001B[0m \u001B[38;5;28;01melse\u001B[39;00m:\n\u001B[1;32m    983\u001B[0m     edit_ops \u001B[38;5;241m=\u001B[39m get_edit_ops(\n\u001B[1;32m    984\u001B[0m         matched_uv,\n\u001B[1;32m    985\u001B[0m         pending_u,\n\u001B[0;32m   (...)\u001B[0m\n\u001B[1;32m    991\u001B[0m         matched_cost,\n\u001B[1;32m    992\u001B[0m     )\n\u001B[0;32m--> 993\u001B[0m     \u001B[38;5;28;01mfor\u001B[39;00m ij, Cv_ij, xy, Ce_xy, edit_cost \u001B[38;5;129;01min\u001B[39;00m edit_ops:\n\u001B[1;32m    994\u001B[0m         i, j \u001B[38;5;241m=\u001B[39m ij\n\u001B[1;32m    995\u001B[0m         \u001B[38;5;66;03m# assert Cv.C[i, j] + sum(Ce.C[t] for t in xy) == edit_cost\u001B[39;00m\n",
      "File \u001B[0;32m/Users/anaconda3/envs/ai-project/lib/python3.8/site-packages/networkx/algorithms/similarity.py:894\u001B[0m, in \u001B[0;36moptimize_edit_paths.<locals>.get_edit_ops\u001B[0;34m(matched_uv, pending_u, pending_v, Cv, pending_g, pending_h, Ce, matched_cost)\u001B[0m\n\u001B[1;32m    891\u001B[0m \u001B[38;5;28;01mif\u001B[39;00m prune(matched_cost \u001B[38;5;241m+\u001B[39m Cv\u001B[38;5;241m.\u001B[39mC[i, j] \u001B[38;5;241m+\u001B[39m Ce\u001B[38;5;241m.\u001B[39mls):\n\u001B[1;32m    892\u001B[0m     \u001B[38;5;28;01mcontinue\u001B[39;00m\n\u001B[1;32m    893\u001B[0m Cv_ij \u001B[38;5;241m=\u001B[39m make_CostMatrix(\n\u001B[0;32m--> 894\u001B[0m     \u001B[43mreduce_C\u001B[49m\u001B[43m(\u001B[49m\u001B[43mCv\u001B[49m\u001B[38;5;241;43m.\u001B[39;49m\u001B[43mC\u001B[49m\u001B[43m,\u001B[49m\u001B[43m \u001B[49m\u001B[43m(\u001B[49m\u001B[43mi\u001B[49m\u001B[43m,\u001B[49m\u001B[43m)\u001B[49m\u001B[43m,\u001B[49m\u001B[43m \u001B[49m\u001B[43m(\u001B[49m\u001B[43mj\u001B[49m\u001B[43m,\u001B[49m\u001B[43m)\u001B[49m\u001B[43m,\u001B[49m\u001B[43m \u001B[49m\u001B[43mm\u001B[49m\u001B[43m,\u001B[49m\u001B[43m \u001B[49m\u001B[43mn\u001B[49m\u001B[43m)\u001B[49m,\n\u001B[1;32m    895\u001B[0m     m \u001B[38;5;241m-\u001B[39m \u001B[38;5;241m1\u001B[39m \u001B[38;5;28;01mif\u001B[39;00m i \u001B[38;5;241m<\u001B[39m m \u001B[38;5;28;01melse\u001B[39;00m m,\n\u001B[1;32m    896\u001B[0m     n \u001B[38;5;241m-\u001B[39m \u001B[38;5;241m1\u001B[39m \u001B[38;5;28;01mif\u001B[39;00m j \u001B[38;5;241m<\u001B[39m n \u001B[38;5;28;01melse\u001B[39;00m n,\n\u001B[1;32m    897\u001B[0m )\n\u001B[1;32m    898\u001B[0m \u001B[38;5;66;03m# assert Cv.ls <= Cv.C[i, j] + Cv_ij.ls\u001B[39;00m\n\u001B[1;32m    899\u001B[0m \u001B[38;5;28;01mif\u001B[39;00m prune(matched_cost \u001B[38;5;241m+\u001B[39m Cv\u001B[38;5;241m.\u001B[39mC[i, j] \u001B[38;5;241m+\u001B[39m Cv_ij\u001B[38;5;241m.\u001B[39mls \u001B[38;5;241m+\u001B[39m Ce\u001B[38;5;241m.\u001B[39mls):\n",
      "File \u001B[0;32m/Users/anaconda3/envs/ai-project/lib/python3.8/site-packages/networkx/algorithms/similarity.py:711\u001B[0m, in \u001B[0;36moptimize_edit_paths.<locals>.reduce_C\u001B[0;34m(C, i, j, m, n)\u001B[0m\n\u001B[1;32m    709\u001B[0m row_ind \u001B[38;5;241m=\u001B[39m [k \u001B[38;5;129;01mnot\u001B[39;00m \u001B[38;5;129;01min\u001B[39;00m i \u001B[38;5;129;01mand\u001B[39;00m k \u001B[38;5;241m-\u001B[39m m \u001B[38;5;129;01mnot\u001B[39;00m \u001B[38;5;129;01min\u001B[39;00m j \u001B[38;5;28;01mfor\u001B[39;00m k \u001B[38;5;129;01min\u001B[39;00m \u001B[38;5;28mrange\u001B[39m(m \u001B[38;5;241m+\u001B[39m n)]\n\u001B[1;32m    710\u001B[0m col_ind \u001B[38;5;241m=\u001B[39m [k \u001B[38;5;129;01mnot\u001B[39;00m \u001B[38;5;129;01min\u001B[39;00m j \u001B[38;5;129;01mand\u001B[39;00m k \u001B[38;5;241m-\u001B[39m n \u001B[38;5;129;01mnot\u001B[39;00m \u001B[38;5;129;01min\u001B[39;00m i \u001B[38;5;28;01mfor\u001B[39;00m k \u001B[38;5;129;01min\u001B[39;00m \u001B[38;5;28mrange\u001B[39m(m \u001B[38;5;241m+\u001B[39m n)]\n\u001B[0;32m--> 711\u001B[0m \u001B[38;5;28;01mreturn\u001B[39;00m \u001B[43mC\u001B[49m\u001B[43m[\u001B[49m\u001B[43mrow_ind\u001B[49m\u001B[43m,\u001B[49m\u001B[43m \u001B[49m\u001B[43m:\u001B[49m\u001B[43m]\u001B[49m\u001B[43m[\u001B[49m\u001B[43m:\u001B[49m\u001B[43m,\u001B[49m\u001B[43m \u001B[49m\u001B[43mcol_ind\u001B[49m\u001B[43m]\u001B[49m\n",
      "\u001B[0;31mKeyboardInterrupt\u001B[0m: "
     ]
    }
   ],
   "execution_count": 13
  },
  {
   "metadata": {},
   "cell_type": "code",
   "outputs": [],
   "execution_count": null,
   "source": "",
   "id": "75cb4309e7802b57"
  }
 ],
 "metadata": {
  "kernelspec": {
   "display_name": "Python 3 (ipykernel)",
   "language": "python",
   "name": "python3"
  },
  "language_info": {
   "codemirror_mode": {
    "name": "ipython",
    "version": 3
   },
   "file_extension": ".py",
   "mimetype": "text/x-python",
   "name": "python",
   "nbconvert_exporter": "python",
   "pygments_lexer": "ipython3",
   "version": "3.12.3"
  }
 },
 "nbformat": 4,
 "nbformat_minor": 5
}
